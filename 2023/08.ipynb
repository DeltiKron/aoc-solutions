{
 "cells": [
  {
   "cell_type": "code",
   "execution_count": 1,
   "id": "3a36451f-1656-4595-8c51-032974964f0d",
   "metadata": {},
   "outputs": [],
   "source": [
    "import re\n",
    "from functools import reduce\n",
    "import itertools\n",
    "from collections import Counter\n",
    "import numpy as np\n",
    "from dataclasses import dataclass\n",
    "\n",
    "\n",
    "@dataclass\n",
    "class Node():\n",
    "    name:str\n",
    "    left:str\n",
    "    right:str\n",
    "\n",
    "\n",
    "\n",
    "def get_input(n):\n",
    "    with open('input_'+n+'.txt', 'r') as infile:\n",
    "        return infile.read().strip()\n",
    "\n",
    "def parse_input(puzzle):\n",
    "    instructions,body = puzzle.split('\\n\\n')\n",
    "\n",
    "    def get_nodes(lines):\n",
    "        nodes = {}\n",
    "        for l in lines:\n",
    "            name, left,right = re.search(r'(\\w+)\\s*=\\s*\\((\\w+),\\s*(\\w+)\\)',l).groups()\n",
    "            nodes[name] = Node(name,left,right)\n",
    "        return nodes\n",
    "    return instructions.strip(), get_nodes(body.split('\\n'))\n",
    "\n",
    "def solve1(puzzle):\n",
    "    instructions, nodes = parse_input(puzzle)\n",
    "\n",
    "    def traverse(instructions, nodes):\n",
    "        current_node = nodes['AAA']\n",
    "        steps = 0\n",
    "        for step in itertools.cycle(instructions):\n",
    "            if current_node.name == 'ZZZ':\n",
    "                break\n",
    "            next_name = current_node.left if step == 'L' else current_node.right\n",
    "            current_node = nodes[next_name]\n",
    "            steps +=1\n",
    "        return steps\n",
    "        \n",
    "    print(traverse(instructions,nodes))\n",
    "\n",
    "def solve2(puzzle):\n",
    "    pass\n",
    "    "
   ]
  },
  {
   "cell_type": "code",
   "execution_count": 2,
   "id": "da1e96f7-7c13-4b0c-a52c-061e0d786718",
   "metadata": {},
   "outputs": [
    {
     "data": {
      "text/plain": [
       "[1, 23, 4]"
      ]
     },
     "execution_count": 2,
     "metadata": {},
     "output_type": "execute_result"
    }
   ],
   "source": [
    "a = [1,23,4]\n",
    "b = a[2]\n",
    "b= 2 \n",
    "a"
   ]
  },
  {
   "cell_type": "code",
   "execution_count": 3,
   "id": "10edfdd3-7aee-42b0-a0bb-bda7617da9a5",
   "metadata": {},
   "outputs": [
    {
     "name": "stdout",
     "output_type": "stream",
     "text": [
      "2\n",
      "6\n"
     ]
    }
   ],
   "source": [
    "sample1 = \"\"\"RL\n",
    "\n",
    "AAA = (BBB, CCC)\n",
    "BBB = (DDD, EEE)\n",
    "CCC = (ZZZ, GGG)\n",
    "DDD = (DDD, DDD)\n",
    "EEE = (EEE, EEE)\n",
    "GGG = (GGG, GGG)\n",
    "ZZZ = (ZZZ, ZZZ)\"\"\"\n",
    "\n",
    "sample2 = \"\"\"LLR\n",
    "\n",
    "AAA = (BBB, BBB)\n",
    "BBB = (AAA, ZZZ)\n",
    "ZZZ = (ZZZ, ZZZ)\"\"\"\n",
    "\n",
    "solve1(sample1)\n",
    "solve1(sample2)"
   ]
  },
  {
   "cell_type": "code",
   "execution_count": 6,
   "id": "ca73ead4-8acd-4bea-802b-98ac7a83ce65",
   "metadata": {},
   "outputs": [
    {
     "name": "stdout",
     "output_type": "stream",
     "text": [
      "18727\n",
      "CPU times: user 7.19 ms, sys: 0 ns, total: 7.19 ms\n",
      "Wall time: 7.28 ms\n"
     ]
    }
   ],
   "source": [
    "%%time\n",
    "puzzle = get_input('8')\n",
    "#print(puzzle)\n",
    "solve1(puzzle)"
   ]
  },
  {
   "cell_type": "code",
   "execution_count": 58,
   "id": "4649ea1f-ddbe-4c8c-8b07-e3a36fc03e2b",
   "metadata": {},
   "outputs": [],
   "source": [
    "sample3 = \"\"\"LR\n",
    "\n",
    "11A = (11B, XXX)\n",
    "11B = (XXX, 11Z)\n",
    "11Z = (11B, XXX)\n",
    "22A = (22B, XXX)\n",
    "22B = (22C, 22C)\n",
    "22C = (22Z, 22Z)\n",
    "22Z = (22B, 22B)\n",
    "XXX = (XXX, XXX)\"\"\"\n",
    "\n",
    "\n",
    "\n",
    "sample4 = \"\"\"L\n",
    "\n",
    "11A = (11B, XXX)\n",
    "11B = (11C, XXX)\n",
    "11C = (11Z, XXX)\n",
    "11Z = (11A, XXX)\n",
    "22A = (22B, XXX)\n",
    "22B = (22C, XXX)\n",
    "22C = (22D, XXX)\n",
    "22D = (22Z, XXX)\n",
    "22Z = (22A, XXX)\"\"\"\n",
    "\n",
    "sample5 = \"\"\"L\n",
    "\n",
    "11A = (11B, XXX)\n",
    "11B = (11C, XXX)\n",
    "11C = (11Z, XXX)\n",
    "11Z = (11B, XXX)\n",
    "22A = (22B, XXX)\n",
    "22B = (22C, XXX)\n",
    "22C = (22D, XXX)\n",
    "22D = (22Z, XXX)\n",
    "22Z = (22A, XXX)\"\"\""
   ]
  },
  {
   "cell_type": "code",
   "execution_count": 94,
   "id": "835cb746-c760-4ca1-9103-31faa886f107",
   "metadata": {},
   "outputs": [
    {
     "name": "stdout",
     "output_type": "stream",
     "text": [
      "3 Node(name='11Z', left='11B', right='XXX')\n",
      "4 11Z\n",
      "4 Node(name='22Z', left='22A', right='XXX')\n",
      "5 22Z\n",
      "[(1, 3, [3]), (0, 5, [4])]\n"
     ]
    },
    {
     "data": {
      "text/plain": [
       "15"
      ]
     },
     "execution_count": 94,
     "metadata": {},
     "output_type": "execute_result"
    }
   ],
   "source": [
    "from pprint import pprint\n",
    "\n",
    "def solve2(puzzle):\n",
    "    instructions, nodes = parse_input(puzzle)\n",
    "\n",
    "\n",
    "    def get_loop_length(node):\n",
    "\n",
    "        def traverse():\n",
    "            current_node = node\n",
    "            for steps, step in enumerate(itertools.cycle(instructions)):\n",
    "                yield steps, current_node\n",
    "                next_name = current_node.left if step == 'L' else current_node.right\n",
    "                current_node = nodes[next_name]\n",
    "                \n",
    "        states = set()\n",
    "        end_positions = []\n",
    "        last_node = Node('','','')\n",
    "        for steps, current_node in traverse():    \n",
    "            state = (current_node.name, steps%len(instructions))\n",
    "            if state in states:\n",
    "                print(steps, last_node.name)\n",
    "                break\n",
    "            states.add(state)\n",
    "            last_node = current_node\n",
    "            if current_node.name.endswith('Z'):\n",
    "                print(steps, current_node)\n",
    "                end_positions.append(steps)\n",
    "\n",
    "        l = steps\n",
    "        state_loop = state\n",
    "\n",
    "        # get x0\n",
    "\n",
    "        for steps, node in traverse():\n",
    "            state = (node.name, steps%len(instructions))\n",
    "            if state == state_loop:\n",
    "                break\n",
    "            \n",
    "\n",
    "        x0 = steps\n",
    "\n",
    "        l_loop = l - x0\n",
    "        #print(f'Found loop for node {node.name} after {steps} steps')\n",
    "        return x0, l_loop, end_positions\n",
    "\n",
    "    lengths = [get_loop_length(n) for n in nodes.values() if n.name.endswith('A')]\n",
    "    pprint(lengths)\n",
    "\n",
    "    def is_endposition(nsteps, loop_length, end_positions):\n",
    "        return (loop_length-len(instructions))\n",
    "    \n",
    "    l_max = max(lengths, key = lambda x: x[1])[1]\n",
    "\n",
    "    lcm = reduce(lambda a,b: a*b, ( li[1] for li in lengths ) )\n",
    "    return lcm\n",
    "            \n",
    "solve2(sample5)  "
   ]
  },
  {
   "cell_type": "code",
   "execution_count": 95,
   "id": "fc48aaa5-f2ca-4f5b-9a2f-c976cadc51c9",
   "metadata": {},
   "outputs": [
    {
     "name": "stdout",
     "output_type": "stream",
     "text": [
      "22411 Node(name='TKZ', left='BHR', right='BGC')\n",
      "22415 BBG\n",
      "18727 Node(name='ZZZ', left='FBF', right='GFB')\n",
      "18731 DPD\n",
      "24253 Node(name='LLZ', left='HCS', right='VHR')\n",
      "24255 HCS\n",
      "14429 Node(name='JLZ', left='KMM', right='QCG')\n",
      "14431 KMM\n",
      "16271 Node(name='KJZ', left='VQH', right='CTG')\n",
      "16276 TDP\n",
      "20569 Node(name='HVZ', left='QRH', right='VHK')\n",
      "20574 BJN\n",
      "[(4, 22411, [22411]),\n",
      " (4, 18727, [18727]),\n",
      " (2, 24253, [24253]),\n",
      " (2, 14429, [14429]),\n",
      " (5, 16271, [16271]),\n",
      " (5, 20569, [20569])]\n",
      "49153966541198323241619811\n"
     ]
    }
   ],
   "source": [
    "print(solve2(puzzle))"
   ]
  },
  {
   "cell_type": "code",
   "execution_count": null,
   "id": "cb54ecba-2dd9-47a7-8963-75ad38530b07",
   "metadata": {},
   "outputs": [],
   "source": [
    "l0 = "
   ]
  }
 ],
 "metadata": {
  "kernelspec": {
   "display_name": "carl",
   "language": "python",
   "name": "carl"
  },
  "language_info": {
   "codemirror_mode": {
    "name": "ipython",
    "version": 3
   },
   "file_extension": ".py",
   "mimetype": "text/x-python",
   "name": "python",
   "nbconvert_exporter": "python",
   "pygments_lexer": "ipython3",
   "version": "3.10.4"
  }
 },
 "nbformat": 4,
 "nbformat_minor": 5
}
