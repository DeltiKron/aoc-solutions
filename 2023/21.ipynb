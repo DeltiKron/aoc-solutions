{
 "cells": [
  {
   "cell_type": "code",
   "execution_count": 31,
   "id": "3a36451f-1656-4595-8c51-032974964f0d",
   "metadata": {},
   "outputs": [
    {
     "name": "stdout",
     "output_type": "stream",
     "text": [
      "read data of shape (11, 11)\n",
      "[[0. 0. 0. 0. 0. 0. 0. 0. 0. 0. 0.]\n",
      " [0. 0. 0. 0. 0. 0. 0. 0. 0. 0. 0.]\n",
      " [0. 0. 0. 0. 0. 0. 0. 5. 6. 0. 0.]\n",
      " [0. 6. 0. 4. 0. 2. 3. 4. 0. 0. 0.]\n",
      " [6. 5. 4. 3. 0. 1. 0. 5. 6. 0. 0.]\n",
      " [0. 0. 0. 2. 1. 0. 0. 0. 0. 0. 0.]\n",
      " [0. 0. 0. 3. 2. 0. 6. 0. 0. 0. 0.]\n",
      " [0. 6. 5. 4. 3. 4. 5. 0. 0. 0. 0.]\n",
      " [0. 0. 0. 5. 0. 5. 0. 0. 0. 0. 0.]\n",
      " [0. 0. 0. 6. 0. 0. 0. 0. 0. 0. 0.]\n",
      " [0. 0. 0. 0. 0. 0. 0. 0. 0. 0. 0.]]\n"
     ]
    }
   ],
   "source": [
    "import re\n",
    "from functools import reduce\n",
    "import itertools\n",
    "from collections import Counter\n",
    "import numpy as np\n",
    "from dataclasses import dataclass, field\n",
    "\n",
    "\n",
    "@dataclass\n",
    "class Node():\n",
    "    x: int \n",
    "    y: int \n",
    "    dist: int = field(compare=False)\n",
    "    \n",
    "    def neighbors(self, ymax, xmax):\n",
    "       x, y = self.x, self.y\n",
    "       candidates = [\n",
    "            [x, y-1],\n",
    "            [x-1, y],\n",
    "            [x+1, y],\n",
    "            [x, y+1],\n",
    "       ]\n",
    "       return [Node(xi[0],xi[1],self.dist+1) for xi in  list(filter(lambda k: 0 <= k[0] < xmax and 0 <= k[1] < ymax, candidates))]\n",
    " \n",
    "    \n",
    "\n",
    "sample = \"\"\"...........\n",
    ".....###.#.\n",
    ".###.##..#.\n",
    "..#.#...#..\n",
    "....#.#....\n",
    ".##..S####.\n",
    ".##..#...#.\n",
    ".......##..\n",
    ".##.#.####.\n",
    ".##..##.##.\n",
    "...........\"\"\"\n",
    "\n",
    "\n",
    "def get_input(n):\n",
    "    with open('input_'+n+'.txt', 'r') as infile:\n",
    "        return infile.read().strip()\n",
    "\n",
    "\n",
    "puzzle = get_input('21')\n",
    "\n",
    "def parse_input(puzzle):\n",
    "    lines = puzzle.strip().split('\\n')\n",
    "    lines = list(map(lambda x: list(x.__iter__()), lines))\n",
    "    res = np.array(lines)\n",
    "    print(f'read data of shape {res.shape}')\n",
    "    return res\n",
    "\n",
    "\n",
    "def solve1(puzzle, thresh):\n",
    "    layout = parse_input(puzzle)\n",
    "    start = np.where(layout == 'S')\n",
    "    xy = (start[1][0],start[0][0])\n",
    "    start = Node(*xy, 0)\n",
    "\n",
    "    visited = [start]\n",
    "    open_nodes = [start]\n",
    "    \n",
    "\n",
    "    while len(open_nodes) > 0:\n",
    "        n = open_nodes.pop(0)\n",
    "        neighbors = n.neighbors(*layout.shape)\n",
    "        for n in neighbors:\n",
    "            if n in visited or layout[n.y, n.x] == '#':\n",
    "                continue\n",
    "            if n.dist > thresh:\n",
    "                continue\n",
    "            open_nodes.append(n)\n",
    "            visited.append(n)\n",
    "        #print(len(visited), len(open_nodes))\n",
    "    hits = np.zeros(layout.shape)\n",
    "    for v in visited:\n",
    "        hits[v.y,v.x] = v.dist\n",
    "\n",
    "    print(hits)\n",
    "    \n",
    "    return len([n for n in visited if n.dist <= thresh and (n.x+n.y) %2 == thresh%2 ])\n",
    "\n",
    "assert solve1(sample,6) == 16\n"
   ]
  },
  {
   "cell_type": "code",
   "execution_count": 32,
   "id": "da1e96f7-7c13-4b0c-a52c-061e0d786718",
   "metadata": {},
   "outputs": [
    {
     "name": "stdout",
     "output_type": "stream",
     "text": [
      "read data of shape (131, 131)\n",
      "[[0. 0. 0. ... 0. 0. 0.]\n",
      " [0. 0. 0. ... 0. 0. 0.]\n",
      " [0. 0. 0. ... 0. 0. 0.]\n",
      " ...\n",
      " [0. 0. 0. ... 0. 0. 0.]\n",
      " [0. 0. 0. ... 0. 0. 0.]\n",
      " [0. 0. 0. ... 0. 0. 0.]]\n"
     ]
    },
    {
     "data": {
      "text/plain": [
       "3733"
      ]
     },
     "execution_count": 32,
     "metadata": {},
     "output_type": "execute_result"
    }
   ],
   "source": [
    "solve1(puzzle, 64)"
   ]
  },
  {
   "cell_type": "code",
   "execution_count": null,
   "id": "10edfdd3-7aee-42b0-a0bb-bda7617da9a5",
   "metadata": {},
   "outputs": [],
   "source": []
  }
 ],
 "metadata": {
  "kernelspec": {
   "display_name": "nlp",
   "language": "python",
   "name": "nlp"
  },
  "language_info": {
   "codemirror_mode": {
    "name": "ipython",
    "version": 3
   },
   "file_extension": ".py",
   "mimetype": "text/x-python",
   "name": "python",
   "nbconvert_exporter": "python",
   "pygments_lexer": "ipython3",
   "version": "3.10.0"
  }
 },
 "nbformat": 4,
 "nbformat_minor": 5
}
