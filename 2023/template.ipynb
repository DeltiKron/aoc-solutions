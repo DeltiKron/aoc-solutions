{
 "cells": [
  {
   "cell_type": "code",
   "execution_count": null,
   "id": "3a36451f-1656-4595-8c51-032974964f0d",
   "metadata": {},
   "outputs": [],
   "source": [
    "import re\n",
    "from functools import reduce\n",
    "import itertools\n",
    "from collections import Counter\n",
    "import numpy as np\n",
    "\n",
    "\n",
    "def get_input(n):\n",
    "    with open('input_'+n+'.txt', 'r') as infile:\n",
    "        return infile.read().strip()\n",
    "puzzle = get_input('')\n",
    "\n",
    "def parse_input(puzzle):\n",
    "    return puzzle\n",
    "\n",
    "def solve1(puzzle):\n",
    "    pass\n",
    "\n",
    "\n",
    "def solve2(puzzle):\n",
    "    pass\n"
   ]
  },
  {
   "cell_type": "code",
   "execution_count": 13,
   "id": "da1e96f7-7c13-4b0c-a52c-061e0d786718",
   "metadata": {},
   "outputs": [],
   "source": []
  },
  {
   "cell_type": "code",
   "execution_count": null,
   "id": "10edfdd3-7aee-42b0-a0bb-bda7617da9a5",
   "metadata": {},
   "outputs": [],
   "source": []
  }
 ],
 "metadata": {
  "kernelspec": {
   "display_name": "nlp",
   "language": "python",
   "name": "nlp"
  },
  "language_info": {
   "codemirror_mode": {
    "name": "ipython",
    "version": 3
   },
   "file_extension": ".py",
   "mimetype": "text/x-python",
   "name": "python",
   "nbconvert_exporter": "python",
   "pygments_lexer": "ipython3",
   "version": "3.10.0"
  }
 },
 "nbformat": 4,
 "nbformat_minor": 5
}
