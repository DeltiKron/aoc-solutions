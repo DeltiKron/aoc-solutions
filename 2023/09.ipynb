{
 "cells": [
  {
   "cell_type": "code",
   "execution_count": 26,
   "id": "3a36451f-1656-4595-8c51-032974964f0d",
   "metadata": {},
   "outputs": [
    {
     "name": "stdout",
     "output_type": "stream",
     "text": [
      "error in [5, 2, 16, 76, 220, 504, 1038, 2072, 4176, 8596, 17934, 37408, 77123, 156092, 309358, 600875, 1147609, 2166120, 4064281, 7621931, 14341202]\n",
      "error in [-10, -3, 18, 55, 110, 183, 282, 470, 990, 2532, 6735, 17050, 40138, 88089, 182041, 358469, 680869, 1262429, 2310889, 4218237, 7742573]\n",
      "error in [2, 7, 33, 101, 237, 478, 891, 1605, 2851, 4997, 8554, 14127, 22322, 33756, 49668, 74416, 122776, 238151, 533733, 1279139, 3072535]\n",
      "error in [23, 42, 77, 151, 312, 652, 1344, 2723, 5462, 10940, 21981, 44288, 89155, 178518, 354335, 696191, 1355093, 2620278, 5055188, 9780558, 19071368]\n",
      "error in [12, 24, 51, 112, 233, 444, 787, 1349, 2331, 4164, 7692, 14478, 27402, 52029, 99979, 197196, 403379, 855143, 1856587, 4059742, 8808766]\n",
      "error in [-5, -10, -15, -2, 67, 250, 630, 1350, 2723, 5496, 11405, 24252, 51884, 109706, 226850, 457196, 899887, 1739416, 3326840, 6346565, 12156399]\n",
      "error in [14, 29, 61, 114, 190, 288, 416, 632, 1131, 2402, 5508, 12622, 28134, 61022, 129927, 273787, 573436, 1193922, 2464328, 5022892, 10072708]\n",
      "error in [3, 1, -6, -17, -20, 16, 153, 502, 1264, 2839, 6097, 12996, 27912, 60419, 131050, 283274, 608588, 1299433, 2760990, 5846246, 12344605]\n",
      "error in [21, 30, 39, 51, 71, 116, 236, 543, 1248, 2720, 5617, 11216, 22231, 44753, 92670, 197402, 428736, 938386, 2049431, 4437414, 9492734]\n",
      "error in [11, 21, 31, 40, 57, 112, 265, 626, 1411, 3070, 6534, 13641, 27820, 55153, 106059, 198248, 362834, 658985, 1211477, 2306915, 4631860]\n",
      "1772145754\n",
      "867\n"
     ]
    }
   ],
   "source": [
    "import re\n",
    "from functools import reduce\n",
    "from pprint import pprint, pformat\n",
    "import itertools\n",
    "from collections import Counter\n",
    "import numpy as np\n",
    "\n",
    "\n",
    "def get_input(n):\n",
    "    with open('input_'+n+'.txt', 'r') as infile:\n",
    "        return infile.read().strip()\n",
    "puzzle = get_input('9')\n",
    "\n",
    "sample1 = \"\"\"0 3 6 9 12 15\n",
    "1 3 6 10 15 21\n",
    "10 13 16 21 30 45\"\"\"\n",
    "\n",
    "\n",
    "sample2 = \"\"\"0 -10 -20 -30 -40\n",
    "-11 -12 -13 -14\"\"\"\n",
    "\n",
    "def parse_input(puzzle):\n",
    "    return [ [int(i) for i in l.split()] for l in puzzle.split('\\n')]\n",
    "\n",
    "\n",
    "results = []\n",
    "def predict(arr, verbose = False):\n",
    "    pyramid = [np.array(arr)]\n",
    "    while True:\n",
    "        pyramid.append(np.diff(pyramid[-1]))\n",
    "        if all([v == 0 for v in pyramid[-1]]):\n",
    "            break\n",
    "\n",
    "    for i, line in zip(range( len(pyramid)-1,-1, -1),reversed(pyramid)):\n",
    "        val = 0 if i == len(pyramid)-1 else pyramid[i+1][-1]\n",
    "        val_front = 0 if i == len(pyramid)-1 else pyramid[i+1][0]\n",
    "        pyramid[i]=np.concatenate([[pyramid[i][0]-val_front],pyramid[i],[pyramid[i][-1]+val]])\n",
    "    if verbose: pprint(pyramid)\n",
    "    results.append(pyramid[0])\n",
    "    return pyramid[0]\n",
    "\n",
    "\n",
    "\n",
    "def solve1(puzzle):\n",
    "    lines = parse_input(puzzle)\n",
    "    predictions = list(map(predict, lines))\n",
    "    return sum([x[-1] for x in predictions])\n",
    "\n",
    "def solve2(puzzle):\n",
    "    lines = parse_input(puzzle)\n",
    "    predictions = list(map(predict, lines))\n",
    "    return sum([x[0] for x in predictions])\n",
    "\n",
    "assert solve1(sample1) == 114\n",
    "\n",
    "\n",
    "for l in parse_input(puzzle):\n",
    "    try:\n",
    "        if not np.array_equal(predict(l[1:-1]),l):\n",
    "            print(f'Result {predict(l[1:-1],True)} should be {l}')\n",
    "    except: \n",
    "        print(f\"error in {l}\")\n",
    "\n",
    "assert solve2(sample1) == 2\n",
    "\n",
    "print(solve1(puzzle))\n",
    "print(solve2(puzzle))\n"
   ]
  },
  {
   "cell_type": "code",
   "execution_count": null,
   "id": "da1e96f7-7c13-4b0c-a52c-061e0d786718",
   "metadata": {},
   "outputs": [],
   "source": [
    "puzzle = get_input('9')"
   ]
  },
  {
   "cell_type": "code",
   "execution_count": null,
   "id": "10edfdd3-7aee-42b0-a0bb-bda7617da9a5",
   "metadata": {},
   "outputs": [],
   "source": []
  },
  {
   "cell_type": "code",
   "execution_count": null,
   "id": "681cdb9d-3036-4cf1-891f-0372ba40e310",
   "metadata": {},
   "outputs": [],
   "source": [
    "\n",
    "import matplotlib.pyplot as plt\n",
    "for i in results:\n",
    "    plt.plot(i[-4:])"
   ]
  },
  {
   "cell_type": "code",
   "execution_count": null,
   "id": "280575b9-9eb8-4485-8d06-1569ba3a830a",
   "metadata": {},
   "outputs": [],
   "source": []
  }
 ],
 "metadata": {
  "kernelspec": {
   "display_name": "carl",
   "language": "python",
   "name": "carl"
  },
  "language_info": {
   "codemirror_mode": {
    "name": "ipython",
    "version": 3
   },
   "file_extension": ".py",
   "mimetype": "text/x-python",
   "name": "python",
   "nbconvert_exporter": "python",
   "pygments_lexer": "ipython3",
   "version": "3.10.4"
  }
 },
 "nbformat": 4,
 "nbformat_minor": 5
}
