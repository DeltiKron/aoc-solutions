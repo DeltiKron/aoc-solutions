{
 "cells": [
  {
   "cell_type": "code",
   "execution_count": 37,
   "id": "3a36451f-1656-4595-8c51-032974964f0d",
   "metadata": {},
   "outputs": [
    {
     "data": {
      "text/plain": [
       "405"
      ]
     },
     "execution_count": 37,
     "metadata": {},
     "output_type": "execute_result"
    }
   ],
   "source": [
    "import re\n",
    "from functools import reduce\n",
    "import itertools\n",
    "from collections import Counter\n",
    "import numpy as np\n",
    "\n",
    "sample1 = \"\"\"#.##..##.\n",
    "..#.##.#.\n",
    "##......#\n",
    "##......#\n",
    "..#.##.#.\n",
    "..##..##.\n",
    "#.#.##.#.\n",
    "\n",
    "#...##..#\n",
    "#....#..#\n",
    "..##..###\n",
    "#####.##.\n",
    "#####.##.\n",
    "..##..###\n",
    "#....#..#\"\"\"\n",
    "\n",
    "def get_input(n):\n",
    "    with open('input_'+n+'.txt', 'r') as infile:\n",
    "        return infile.read().strip()\n",
    "\n",
    "\n",
    "def parse_input(puzzle):\n",
    "    return [np.array(list(map(lambda x: list(x.__iter__()),block.strip().split('\\n')))) for block in puzzle.split('\\n\\n')]\n",
    "\n",
    "assert(parse_input(sample1)[0].shape == (7, 9))\n",
    "\n",
    "def get_reflection_line(block):\n",
    "    previous = None\n",
    "    for i, row in enumerate(block):\n",
    "        if np.array_equal(row, previous):\n",
    "            for l,r in zip(block[i-1::-1], block[i:]):\n",
    "                if not np.array_equal(l,r):\n",
    "                    break\n",
    "            else:\n",
    "                return i\n",
    "        previous=row\n",
    "    return 0\n",
    "\n",
    "def result(block):\n",
    "    return get_reflection_line(block.T)+100*get_reflection_line(block)\n",
    "\n",
    "\n",
    "\n",
    "sample_block = parse_input(sample1)[0]\n",
    "sample_block2 = parse_input(sample1)[1]\n",
    "\n",
    "assert result(sample_block) == 5\n",
    "assert result(sample_block2) == 400\n",
    "\n",
    "def solve1(puzzle):\n",
    "    blocks = parse_input(puzzle)\n",
    "    return sum(result(block) for block in blocks)\n",
    "\n",
    "assert solve1(sample1) == 405\n",
    "\n",
    "solve1(sample1)"
   ]
  },
  {
   "cell_type": "code",
   "execution_count": 69,
   "id": "da1e96f7-7c13-4b0c-a52c-061e0d786718",
   "metadata": {},
   "outputs": [
    {
     "data": {
      "text/plain": [
       "27300"
      ]
     },
     "execution_count": 69,
     "metadata": {},
     "output_type": "execute_result"
    }
   ],
   "source": [
    "puzzle = get_input('13')\n",
    "solve1(puzzle)"
   ]
  },
  {
   "cell_type": "code",
   "execution_count": 81,
   "id": "10edfdd3-7aee-42b0-a0bb-bda7617da9a5",
   "metadata": {},
   "outputs": [
    {
     "name": "stdout",
     "output_type": "stream",
     "text": [
      "300\n",
      "100\n",
      "600\n"
     ]
    }
   ],
   "source": [
    "sample2 = \"\"\"#.##..##.\n",
    "..#.##.#.\n",
    "##......#\n",
    "##......#\n",
    "..#.##.#.\n",
    "..##..##.\n",
    "#.#.##.#.\n",
    "\n",
    "#...##..#\n",
    "#....#..#\n",
    "..##..###\n",
    "#####.##.\n",
    "#####.##.\n",
    "..##..###\n",
    "#....#..#\"\"\"\n",
    "\n",
    "\n",
    "\n",
    "\n",
    "def get_reflection_line_smudged(block):\n",
    "    previous = None\n",
    "\n",
    "    for i, row in enumerate(block):\n",
    "        if (row == previous).sum() >= len(row)-1:\n",
    "            smudges = 0\n",
    "            def matches(l,r):\n",
    "                nonlocal smudges\n",
    "                n_matches = (l == r).sum()\n",
    "\n",
    "                if n_matches == len(l)-1:\n",
    "                    if smudges == 1:\n",
    "                        return 0\n",
    "                    smudges += 1\n",
    "\n",
    "                if n_matches+smudges >= len(l):\n",
    "                    return True\n",
    "                return False\n",
    "\n",
    "            for l,r in zip(block[i-1::-1], block[i:]):\n",
    "                if not matches(l,r):\n",
    "                    break\n",
    "            else:\n",
    "                if smudges == 1:\n",
    "                    return i\n",
    "        previous=row\n",
    "    return 0\n",
    "\n",
    "\n",
    "sample2_block = parse_input(sample2)[0]\n",
    "sample2_block2 = parse_input(sample2)[1]\n",
    "\n",
    "def result2(block):\n",
    "    res = get_reflection_line_smudged(block.T)+100*get_reflection_line_smudged(block)\n",
    "    if (res > 90 and res%100 != 0):\n",
    "        print(block)\n",
    "        print(res)\n",
    "    return res\n",
    "\n",
    "print(result2(sample2_block))\n",
    "print(result2(sample2_block2))\n",
    "\n",
    "\n",
    "\n",
    "def solve2(puzzle):\n",
    "    blocks = parse_input(puzzle)\n",
    "    return sum(result2(block) for block in blocks)\n",
    "\n",
    "assert solve2(sample2) == 400\n",
    "\n",
    "sample3 = \"\"\"\n",
    "#..\n",
    "#..\n",
    ".#.\n",
    ".#.\n",
    "#..\n",
    "...\n",
    "\"\"\"\n",
    "\n",
    "sample4 =\"\"\"\n",
    "..##..##.\n",
    "..#.##.#.\n",
    "#.......#\n",
    "#.......#\n",
    "..#.##.#.\n",
    "..##..##.\n",
    "..##..##.\n",
    "#.#.##.#.\"\"\"\n",
    "\n",
    "assert solve2(sample3) == 300\n",
    "print(solve2(sample4))"
   ]
  },
  {
   "cell_type": "code",
   "execution_count": 82,
   "id": "9f2e3adb",
   "metadata": {},
   "outputs": [
    {
     "data": {
      "text/plain": [
       "29276"
      ]
     },
     "execution_count": 82,
     "metadata": {},
     "output_type": "execute_result"
    }
   ],
   "source": [
    "solve2(puzzle)"
   ]
  },
  {
   "cell_type": "code",
   "execution_count": 83,
   "id": "4266dd80",
   "metadata": {},
   "outputs": [
    {
     "name": "stdout",
     "output_type": "stream",
     "text": [
      "27300\n",
      "29276\n"
     ]
    }
   ],
   "source": [
    "# Solution for comparison:\n",
    "# https://www.reddit.com/r/adventofcode/comments/18h940b/comment/kecwwi0/?utm_source=share&utm_medium=web3x&utm_name=web3xcss&utm_term=1&utm_content=share_button\n",
    "\n",
    "import numpy as np\n",
    "\n",
    "def mirrorpos(arr, axis=0, diff=0):\n",
    "    m = np.array(arr, dtype=int)\n",
    "    if axis == 1:\n",
    "        m = m.T\n",
    "    for i in range(m.shape[0] - 1):\n",
    "        upper_flipped = np.flip(m[: i + 1], axis=0)\n",
    "        lower = m[i + 1 :]\n",
    "        rows = min(upper_flipped.shape[0], lower.shape[0])\n",
    "        if np.count_nonzero(upper_flipped[:rows] - lower[:rows]) == diff:\n",
    "            return i + 1\n",
    "    return 0\n",
    "\n",
    "with open(\"input_13.txt\", \"r\") as file:\n",
    "    data = file.read().split(\"\\n\\n\")\n",
    "for i in range(2):\n",
    "    total = 0\n",
    "    for puzzle in data:\n",
    "        arr = []\n",
    "        for line in puzzle.splitlines():\n",
    "            arr.append([*line.strip().replace(\".\", \"0\").replace(\"#\", \"1\")])\n",
    "        total += 100 * mirrorpos(arr, axis=0, diff=i) + mirrorpos(arr, axis=1, diff=i)\n",
    "    print(total)"
   ]
  },
  {
   "cell_type": "code",
   "execution_count": 84,
   "id": "ec96312a",
   "metadata": {},
   "outputs": [],
   "source": [
    "for block in parse_input(puzzle):\n",
    "    mine =get_reflection_line_smudged(block)\n",
    "    theirs=mirrorpos(block=='#',diff=1)\n",
    "    if mine != theirs:\n",
    "        print(block)\n",
    "        print(mine, theirs)\n",
    "        get_reflection_line_smudged(block)"
   ]
  },
  {
   "cell_type": "markdown",
   "id": "89201c58",
   "metadata": {},
   "source": [
    "Had a bug in my comparison where I didn't allow pefect matches if a smudge was already there.\n",
    "This test case catches it:"
   ]
  },
  {
   "cell_type": "code",
   "execution_count": null,
   "id": "03ceb5eb",
   "metadata": {},
   "outputs": [],
   "source": [
    "sample5 =\"\"\"\n",
    "..##..##.\n",
    "..#.##.#.\n",
    "#.......#\n",
    "#.......#\n",
    "..#.##.#.\n",
    "..##..##.\n",
    "..##..##.\n",
    "#.#.##.#.\n",
    "#......#\"\"\""
   ]
  },
  {
   "cell_type": "code",
   "execution_count": 85,
   "id": "f477f036",
   "metadata": {
    "vscode": {
     "languageId": "javascript"
    }
   },
   "outputs": [
    {
     "ename": "SyntaxError",
     "evalue": "invalid syntax (3108929725.py, line 1)",
     "output_type": "error",
     "traceback": [
      "\u001b[0;36m  Input \u001b[0;32mIn [85]\u001b[0;36m\u001b[0m\n\u001b[0;31m    const foo = 1;\u001b[0m\n\u001b[0m          ^\u001b[0m\n\u001b[0;31mSyntaxError\u001b[0m\u001b[0;31m:\u001b[0m invalid syntax\n"
     ]
    }
   ],
   "source": [
    "const foo = 1;\n",
    "console.log(foo);"
   ]
  },
  {
   "cell_type": "code",
   "execution_count": null,
   "id": "df0e1bbe",
   "metadata": {
    "vscode": {
     "languageId": "javascript"
    }
   },
   "outputs": [],
   "source": []
  }
 ],
 "metadata": {
  "kernelspec": {
   "display_name": "Python 3 (ipykernel)",
   "language": "python",
   "name": "python3"
  },
  "language_info": {
   "codemirror_mode": {
    "name": "ipython",
    "version": 3
   },
   "file_extension": ".py",
   "mimetype": "text/x-python",
   "name": "python",
   "nbconvert_exporter": "python",
   "pygments_lexer": "ipython3",
   "version": "3.10.0"
  }
 },
 "nbformat": 4,
 "nbformat_minor": 5
}
