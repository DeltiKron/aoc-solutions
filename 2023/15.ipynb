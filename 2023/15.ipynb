{
 "cells": [
  {
   "cell_type": "code",
   "execution_count": 1,
   "id": "3a36451f-1656-4595-8c51-032974964f0d",
   "metadata": {},
   "outputs": [
    {
     "name": "stdout",
     "output_type": "stream",
     "text": [
      "1320\n"
     ]
    }
   ],
   "source": [
    "import re\n",
    "from functools import reduce\n",
    "import itertools\n",
    "from collections import Counter\n",
    "import numpy as np\n",
    "\n",
    "\n",
    "def get_input(n):\n",
    "    with open('input_'+n+'.txt', 'r') as infile:\n",
    "        return infile.read().strip()\n",
    "\n",
    "def parse_input(puzzle_input):\n",
    "    return puzzle_input.replace('\\n','').split(',')\n",
    "\n",
    "def HASH(string:str):\n",
    "    h=0\n",
    "    for c in string:\n",
    "        h += ord(c)\n",
    "        h *= 17\n",
    "        h = h % 256\n",
    "    return h\n",
    "\n",
    "assert HASH('HASH') == 52\n",
    "assert HASH(\"rn=1\") == 30\n",
    "assert HASH(\"cm-\") == 253\n",
    "assert HASH(\"qp=3\") == 97\n",
    "assert HASH(\"cm=2\") == 47\n",
    "assert HASH(\"qp-\") == 14\n",
    "assert HASH(\"pc=4\") == 180\n",
    "assert HASH(\"ot=9\") == 9\n",
    "assert HASH(\"ab=5\") == 197\n",
    "assert HASH(\"pc-\") == 48\n",
    "assert HASH(\"pc=6\") == 214\n",
    "assert HASH(\"ot=7\") == 231\n",
    "\n",
    "\n",
    "def solve1(puzzle):\n",
    "    return sum(HASH(step) for step in parse_input(puzzle))\n",
    "\n",
    "def parse_step(step):\n",
    "    label, operation, value = re.match(r'(\\w+)([=-])(\\d*)', step).groups()\n",
    "    box=HASH(label)\n",
    "    return box, label, operation, value\n",
    "\n",
    "sample = \"rn=1,cm-,qp=3,cm=2,qp-,pc=4,ot=9,ab=5,pc-,pc=6,ot=7\"\n",
    "print(solve1(sample))\n"
   ]
  },
  {
   "cell_type": "code",
   "execution_count": 3,
   "id": "da1e96f7-7c13-4b0c-a52c-061e0d786718",
   "metadata": {},
   "outputs": [],
   "source": [
    "puzzle = get_input('15')"
   ]
  },
  {
   "cell_type": "code",
   "execution_count": 4,
   "id": "10edfdd3-7aee-42b0-a0bb-bda7617da9a5",
   "metadata": {},
   "outputs": [
    {
     "data": {
      "text/plain": [
       "504449"
      ]
     },
     "execution_count": 4,
     "metadata": {},
     "output_type": "execute_result"
    }
   ],
   "source": [
    "solve1(puzzle)"
   ]
  },
  {
   "cell_type": "code",
   "execution_count": null,
   "id": "4bedcdff",
   "metadata": {},
   "outputs": [],
   "source": []
  },
  {
   "cell_type": "code",
   "execution_count": 5,
   "id": "7c0f369e",
   "metadata": {},
   "outputs": [],
   "source": [
    "from pprint import pprint\n",
    "\n",
    "\n",
    "def sum_boxes(boxes):\n",
    "    res = 0\n",
    "    for box in boxes.keys():\n",
    "        v = 1 + box\n",
    "        v = 0\n",
    "        for i,l in enumerate([int(b[1]) for b in boxes[box]], 1):\n",
    "            v += (box+1)*i*l\n",
    "        res += v\n",
    "    return res\n",
    "assert sum_boxes({0: [('rn', '1'), ('cm', '2')], 3: [('ot', '7'), ('ab', '5'), ('pc', '6')]}\n",
    ") == 145\n",
    "\n",
    "def solve2(puzzle):\n",
    "    boxes = {}\n",
    "\n",
    "    def do_insert(box, label, value):\n",
    "        if box not in boxes:\n",
    "            boxes[box] = [(label, value)]\n",
    "            return\n",
    "        for i, l in enumerate(b[0] for b in boxes[box]):\n",
    "            if l == label:\n",
    "                boxes[box][i] = (label, value)\n",
    "                break\n",
    "        else:\n",
    "            boxes[box].append((label, value))\n",
    "\n",
    "    def do_remove(box, label):\n",
    "        if box not in boxes:\n",
    "            return\n",
    "        for i, l in enumerate(b[0] for b in boxes[box]):\n",
    "            if l == label:\n",
    "                del boxes[box][i]\n",
    "        if len(boxes[box]) == 0:\n",
    "            del boxes[box]\n",
    "\n",
    "    for step in parse_input(puzzle):\n",
    "        box, label, op, value =  parse_step(step)\n",
    "        if op == '=':\n",
    "            do_insert(box, label, value)\n",
    "        elif op == '-':\n",
    "            do_remove(box, label)\n",
    "        #print(step)\n",
    "    return sum_boxes(boxes)\n",
    "\n",
    "\n",
    "assert solve2(sample) == 145"
   ]
  },
  {
   "cell_type": "code",
   "execution_count": 6,
   "id": "22364ec0",
   "metadata": {},
   "outputs": [
    {
     "data": {
      "text/plain": [
       "262044"
      ]
     },
     "execution_count": 6,
     "metadata": {},
     "output_type": "execute_result"
    }
   ],
   "source": [
    "solve2(puzzle)"
   ]
  },
  {
   "cell_type": "code",
   "execution_count": null,
   "id": "2780c6a6",
   "metadata": {},
   "outputs": [],
   "source": []
  }
 ],
 "metadata": {
  "kernelspec": {
   "display_name": "carl",
   "language": "python",
   "name": "python3"
  },
  "language_info": {
   "codemirror_mode": {
    "name": "ipython",
    "version": 3
   },
   "file_extension": ".py",
   "mimetype": "text/x-python",
   "name": "python",
   "nbconvert_exporter": "python",
   "pygments_lexer": "ipython3",
   "version": "3.10.4"
  }
 },
 "nbformat": 4,
 "nbformat_minor": 5
}
