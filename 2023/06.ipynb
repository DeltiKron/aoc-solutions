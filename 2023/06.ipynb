{
 "cells": [
  {
   "cell_type": "code",
   "execution_count": 15,
   "id": "3a3b0e0c-e7ed-4dd4-91f3-affeb5b48f58",
   "metadata": {},
   "outputs": [],
   "source": [
    "from functools import reduce\n",
    "import tqdm\n",
    "\n",
    "sample = \"\"\"Time:      7  15   30\n",
    "Distance:  9  40  200\"\"\"\n",
    "\n",
    "def parse_input(puzzle):\n",
    "    lines = puzzle.strip().split('\\n')\n",
    "    return zip(*[map(lambda x : int(x.strip()),l.split(':')[-1].strip().split()) for l in lines])\n",
    "\n",
    "def won(held,t,d):\n",
    "    d_achieved = (t-held)*held\n",
    "    return d_achieved > d\n",
    "\n",
    "def n_winning(t,d):\n",
    "    return sum(won(i,t,d) for i in range(t+1))        \n",
    "\n",
    "def solve1(puzzle):\n",
    "    numbers = []\n",
    "    for t,d in parse_input(puzzle):\n",
    "        numbers.append(n_winning(t,d))\n",
    "    print(numbers)\n",
    "    return reduce(lambda a,b: a*b, numbers)"
   ]
  },
  {
   "cell_type": "code",
   "execution_count": 7,
   "id": "09aadb6a-6c37-432a-b922-b0a9f8f54622",
   "metadata": {},
   "outputs": [
    {
     "name": "stdout",
     "output_type": "stream",
     "text": [
      "[4, 8, 9]\n"
     ]
    },
    {
     "data": {
      "text/plain": [
       "288"
      ]
     },
     "execution_count": 7,
     "metadata": {},
     "output_type": "execute_result"
    }
   ],
   "source": [
    "solve1(sample)"
   ]
  },
  {
   "cell_type": "code",
   "execution_count": 8,
   "id": "f9032305-2b34-4f59-9f72-f47a7b968f0d",
   "metadata": {},
   "outputs": [
    {
     "name": "stdout",
     "output_type": "stream",
     "text": [
      "[32, 46, 9, 38]\n"
     ]
    },
    {
     "data": {
      "text/plain": [
       "503424"
      ]
     },
     "execution_count": 8,
     "metadata": {},
     "output_type": "execute_result"
    }
   ],
   "source": [
    "puzzle = \"\"\"Time:        49     87     78     95\n",
    "Distance:   356   1378   1502   1882\"\"\"\n",
    "\n",
    "solve1(puzzle)"
   ]
  },
  {
   "cell_type": "code",
   "execution_count": 9,
   "id": "8b282797-3604-4642-8449-625a9f6f9316",
   "metadata": {},
   "outputs": [
    {
     "name": "stdout",
     "output_type": "stream",
     "text": [
      "71503\n"
     ]
    }
   ],
   "source": [
    "s2 = n_winning(71530,940200)\n",
    "print(s2)"
   ]
  },
  {
   "cell_type": "code",
   "execution_count": 13,
   "id": "165e4d07-5e0a-4836-9580-ccd4786ea29c",
   "metadata": {},
   "outputs": [
    {
     "name": "stdout",
     "output_type": "stream",
     "text": [
      "71530 940200\n"
     ]
    },
    {
     "data": {
      "text/plain": [
       "71503"
      ]
     },
     "execution_count": 13,
     "metadata": {},
     "output_type": "execute_result"
    }
   ],
   "source": [
    "def solve2(puzzle):\n",
    "    lines = puzzle.strip().split('\\n')\n",
    "    t,d = [ int(line.split(':')[-1].replace(' ','')) for line in lines]\n",
    "    print(t,d)\n",
    "    return n_winning(t,d)\n",
    "solve2(sample)"
   ]
  },
  {
   "cell_type": "code",
   "execution_count": 14,
   "id": "c93521a8-5903-4553-9df2-8811fa8f011e",
   "metadata": {},
   "outputs": [
    {
     "name": "stdout",
     "output_type": "stream",
     "text": [
      "49877895 356137815021882\n"
     ]
    },
    {
     "data": {
      "text/plain": [
       "32607562"
      ]
     },
     "execution_count": 14,
     "metadata": {},
     "output_type": "execute_result"
    }
   ],
   "source": [
    "solve2(puzzle)"
   ]
  },
  {
   "cell_type": "code",
   "execution_count": null,
   "id": "9837937d-25ef-4b19-bdec-1bfa8c76bb91",
   "metadata": {},
   "outputs": [],
   "source": []
  }
 ],
 "metadata": {
  "kernelspec": {
   "display_name": "nlp",
   "language": "python",
   "name": "nlp"
  },
  "language_info": {
   "codemirror_mode": {
    "name": "ipython",
    "version": 3
   },
   "file_extension": ".py",
   "mimetype": "text/x-python",
   "name": "python",
   "nbconvert_exporter": "python",
   "pygments_lexer": "ipython3",
   "version": "3.10.0"
  }
 },
 "nbformat": 4,
 "nbformat_minor": 5
}
