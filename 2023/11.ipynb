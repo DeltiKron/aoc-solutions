{
 "cells": [
  {
   "cell_type": "code",
   "execution_count": 1,
   "id": "3a36451f-1656-4595-8c51-032974964f0d",
   "metadata": {},
   "outputs": [
    {
     "name": "stdout",
     "output_type": "stream",
     "text": [
      "read data of shape (10, 10)\n",
      "read data of shape (12, 13)\n",
      "read data of shape (10, 10)\n",
      "374\n"
     ]
    }
   ],
   "source": [
    "import re\n",
    "from functools import reduce\n",
    "import itertools\n",
    "from collections import Counter\n",
    "import numpy as np\n",
    "from pprint import pprint\n",
    "\n",
    "\n",
    "def get_input(n):\n",
    "    with open('input_'+n+'.txt', 'r') as infile:\n",
    "        return infile.read().strip()\n",
    "\n",
    "\n",
    "sample1=\"\"\"...#......\n",
    ".......#..\n",
    "#.........\n",
    "..........\n",
    "......#...\n",
    ".#........\n",
    ".........#\n",
    "..........\n",
    ".......#..\n",
    "#...#.....\"\"\"\n",
    "\n",
    "expanded1=\"\"\"....#........\n",
    ".........#...\n",
    "#............\n",
    ".............\n",
    ".............\n",
    "........#....\n",
    ".#...........\n",
    "............#\n",
    ".............\n",
    ".............\n",
    ".........#...\n",
    "#....#.......\n",
    "\"\"\"\n",
    "\n",
    "def parse_input(puzzle):\n",
    "    lines = puzzle.strip().split('\\n')\n",
    "    lines = list(map(lambda x: list(x.__iter__()),lines))\n",
    "    res = np.array(lines)\n",
    "    print(f'read data of shape {res.shape}')\n",
    "    return res\n",
    "\n",
    "def expand(galaxy):\n",
    "    result_y = []\n",
    "    for l in galaxy:\n",
    "        if all(x == '.' for x in l):\n",
    "            result_y.append(l)\n",
    "        result_y.append(l)\n",
    "    result_y = np.array(result_y)\n",
    "    result_x = []\n",
    "    for l in result_y.T:\n",
    "        if all(x == '.' for x in l):\n",
    "            result_x.append(l)\n",
    "        result_x.append(l)\n",
    "    return np.array(result_x).T\n",
    "assert np.array_equal(expand(parse_input(sample1)) , parse_input(expanded1))\n",
    "\n",
    "\n",
    "def find_galaxies(galaxy):\n",
    "    return zip(*np.where('#'==galaxy))\n",
    "\n",
    "\n",
    "def solve(puzzle):\n",
    "    galaxy = parse_input(puzzle)\n",
    "    expanded= expand(galaxy)\n",
    "    galaxies = find_galaxies(expanded)\n",
    "    combinations = itertools.combinations(galaxies, 2)\n",
    "    return sum(map(lambda x: min_steps(*x), combinations))\n",
    "\n",
    "\n",
    "def min_steps(X1,X2):\n",
    "    return abs(X1[0]-X2[0])+abs(X1[1]-X2[1])\n",
    "print(solve(sample1))"
   ]
  },
  {
   "cell_type": "code",
   "execution_count": 2,
   "id": "da1e96f7-7c13-4b0c-a52c-061e0d786718",
   "metadata": {},
   "outputs": [],
   "source": [
    "puzzle = get_input('11')"
   ]
  },
  {
   "cell_type": "code",
   "execution_count": 3,
   "id": "10edfdd3-7aee-42b0-a0bb-bda7617da9a5",
   "metadata": {},
   "outputs": [
    {
     "name": "stdout",
     "output_type": "stream",
     "text": [
      "read data of shape (140, 140)\n",
      "9608724\n"
     ]
    }
   ],
   "source": [
    "print(solve(puzzle))"
   ]
  },
  {
   "cell_type": "code",
   "execution_count": 20,
   "id": "a47a720c-2945-4100-8b7d-b582d1b2aa04",
   "metadata": {},
   "outputs": [
    {
     "name": "stdout",
     "output_type": "stream",
     "text": [
      "read data of shape (10, 10)\n",
      "374\n"
     ]
    }
   ],
   "source": [
    "def expansion_indices(galaxy):\n",
    "    result_y = []\n",
    "    for i, l in enumerate(galaxy):\n",
    "        if all(x == '.' for x in l):\n",
    "            result_y.append(i)\n",
    "    result_x = []\n",
    "    for i, l in enumerate(galaxy.T):\n",
    "        if all(x == '.' for x in l):\n",
    "            result_x.append(i)\n",
    "    return result_y, result_x\n",
    "\n",
    "\n",
    "def min_distance(X1, X2, expansions, expansion_factor):\n",
    "    dy = abs(X1[0]-X2[0]) + (expansion_factor-1)*sum(min(X1[0],X2[0])< y < max(X1[0],X2[0]) for y in expansions[0])\n",
    "    dx = abs(X1[1]-X2[1]) + (expansion_factor-1)*sum(min(X1[1],X2[1])< x < max(X1[1],X2[1]) for x in expansions[1])\n",
    "    return dx+dy\n",
    "\n",
    "\n",
    "def solve2(puzzle, expansion_factor = 2):\n",
    "    galaxy = parse_input(puzzle)\n",
    "    galaxies = find_galaxies(galaxy)\n",
    "    expansions = expansion_indices(galaxy)\n",
    "    combinations = itertools.combinations(galaxies, 2)\n",
    "    return sum(map(lambda x: min_distance(x[0],x[1], expansions=expansions, expansion_factor=expansion_factor), combinations))\n",
    "\n",
    "print(solve2(sample1))\n",
    "\n"
   ]
  },
  {
   "cell_type": "code",
   "execution_count": 21,
   "id": "f188428e-ce66-45dd-a795-44365dded4af",
   "metadata": {},
   "outputs": [],
   "source": [
    "assert min_distance([0,0],[0,0],[[],[]],2) == 0\n",
    "assert min_distance([0,0],[0,2],[[],[]],2) == 2\n",
    "assert min_distance([0,0],[0,2],[[1],[]],2) == 2\n",
    "assert min_distance([0,0],[0,2],[[1],[]],2) == 2\n",
    "assert min_distance([0,2],[0,0],[[],[1]],2) == 3\n",
    "assert min_distance([0,0],[0,2],[[1],[1]],2) == 3\n",
    "assert min_distance([0,0],[0,2],[[1],[1]],2) == 3\n",
    "assert min_distance([0,0],[2,0],[[1],[0]],2) == 3\n",
    "assert min_distance([0,0],[2,2],[[1],[1]],2) == 6\n",
    "\n",
    "assert min_distance([0,0],[2,2],[[1],[1]],3) == 8\n",
    "\n",
    "assert min_distance([0,0],[2,2],[[1],[1]],5) == 12\n",
    "assert min_distance([0,0],[0,8],[[],[1,2,3,4,5,6,7]],5) == 36\n",
    "assert min_distance([0,0],[0,8],[[1,2,3,4,5,6,7],[]],5) == 8\n",
    "assert min_distance([0,0],[8,0],[[1,2,3,4,5,6,7],[]],5) == 36\n",
    "\n",
    "assert min_distance([0,0],[2,0],[[1],[]],200) == 201\n"
   ]
  },
  {
   "cell_type": "code",
   "execution_count": 6,
   "id": "35647668-740f-4786-bc07-f1c690dadc1c",
   "metadata": {},
   "outputs": [
    {
     "name": "stdout",
     "output_type": "stream",
     "text": [
      "read data of shape (10, 10)\n"
     ]
    }
   ],
   "source": [
    "test_gal = parse_input(sample1)\n",
    "test_indices = expansion_indices(test_gal)\n",
    "assert np.array_equal(np.array(list(map(len, test_indices)))+test_gal.shape, expand(test_gal).shape)"
   ]
  },
  {
   "cell_type": "code",
   "execution_count": 22,
   "id": "ee3b409c-1886-46b0-a6bf-816f6c80b75c",
   "metadata": {},
   "outputs": [
    {
     "name": "stdout",
     "output_type": "stream",
     "text": [
      "read data of shape (140, 140)\n"
     ]
    },
    {
     "data": {
      "text/plain": [
       "904633799472"
      ]
     },
     "execution_count": 22,
     "metadata": {},
     "output_type": "execute_result"
    }
   ],
   "source": [
    "solve2(puzzle, expansion_factor=10**6)"
   ]
  },
  {
   "cell_type": "code",
   "execution_count": null,
   "id": "8407a14b-1726-41a3-b8fa-12cc3dba48a7",
   "metadata": {},
   "outputs": [],
   "source": []
  }
 ],
 "metadata": {
  "kernelspec": {
   "display_name": "nlp",
   "language": "python",
   "name": "nlp"
  },
  "language_info": {
   "codemirror_mode": {
    "name": "ipython",
    "version": 3
   },
   "file_extension": ".py",
   "mimetype": "text/x-python",
   "name": "python",
   "nbconvert_exporter": "python",
   "pygments_lexer": "ipython3",
   "version": "3.10.0"
  }
 },
 "nbformat": 4,
 "nbformat_minor": 5
}
