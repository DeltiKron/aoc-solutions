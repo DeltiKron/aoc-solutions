{
 "cells": [
  {
   "cell_type": "code",
   "execution_count": 25,
   "id": "3a36451f-1656-4595-8c51-032974964f0d",
   "metadata": {},
   "outputs": [
    {
     "name": "stdout",
     "output_type": "stream",
     "text": [
      "found cycle of length 7\n"
     ]
    }
   ],
   "source": [
    "from enum import Enum\n",
    "import pickle\n",
    "import re\n",
    "from functools import lru_cache, reduce, wraps\n",
    "import itertools\n",
    "from collections import Counter\n",
    "import numpy as np\n",
    "\n",
    "sample = \"\"\"O....#....\n",
    "O.OO#....#\n",
    ".....##...\n",
    "OO.#O....O\n",
    ".O.....O#.\n",
    "O.#..O.#.#\n",
    "..O..#O..O\n",
    ".......O..\n",
    "#....###..\n",
    "#OO..#....\"\"\"\n",
    "\n",
    "sample_tilted_west = \"\"\"O....#....\n",
    "OOO.#....#\n",
    ".....##...\n",
    "OO.#OO....\n",
    "OO......#.\n",
    "O.#O...#.#\n",
    "O....#OO..\n",
    "O.........\n",
    "#....###..\n",
    "#OO..#....\"\"\"\n",
    "\n",
    "sample_tilted_east = \"\"\"....O#....\n",
    ".OOO#....#\n",
    ".....##...\n",
    ".OO#....OO\n",
    "......OO#.\n",
    ".O#...O#.#\n",
    "....O#..OO\n",
    ".........O\n",
    "#....###..\n",
    "#..OO#....\"\"\"\n",
    "\n",
    "sample_tilted_north = \"\"\"OOOO.#.O..\n",
    "OO..#....#\n",
    "OO..O##..O\n",
    "O..#.OO...\n",
    "........#.\n",
    "..#....#.#\n",
    "..O..#.O.O\n",
    "..O.......\n",
    "#....###..\n",
    "#....#....\"\"\"\n",
    "\n",
    "def get_input(n):\n",
    "    with open('input_'+n+'.txt', 'r') as infile:\n",
    "        return infile.read().strip()\n",
    "\n",
    "def parse_input(puzzle_input):\n",
    "    return np.array([[x for x in l] for l in puzzle_input.split('\\n')])\n",
    "\n",
    "def np_cache(function):\n",
    "    @lru_cache()\n",
    "    def cached_wrapper(hashable_array,number):\n",
    "        array = pickle.loads(hashable_array)\n",
    "        return function(array,number)\n",
    "\n",
    "    @wraps(function)\n",
    "    def wrapper(array,number):\n",
    "        return cached_wrapper(pickle.dumps(array),number)\n",
    "\n",
    "    # copy lru_cache attributes over too\n",
    "    wrapper.cache_info = cached_wrapper.cache_info\n",
    "    wrapper.cache_clear = cached_wrapper.cache_clear\n",
    "\n",
    "    return wrapper\n",
    "\n",
    "def load(dish):\n",
    "    rocks = dish=='O'\n",
    "    per_line = rocks.sum(axis=1)\n",
    "    factors = (np.arange(rocks.shape[1])+1)[::-1]\n",
    "    return per_line.dot(factors).sum()\n",
    "\n",
    "assert load(parse_input(sample_tilted_north)) == 136\n",
    "\n",
    "def tilt_line(line):\n",
    "    rep = ''.join(line)\n",
    "    blocks = re.findall(r'[.O]*(?:#|$)+', rep)\n",
    "    tilted_blocks = [sorted(b,key=lambda x: '.O#'.index(x)) for b in blocks]\n",
    "    return np.array(list(itertools.chain(*tilted_blocks)))\n",
    "\n",
    "\n",
    "class direction():\n",
    "    north = 3\n",
    "    east = 0\n",
    "    south = 1\n",
    "    west = 2\n",
    "\n",
    "@np_cache\n",
    "def tilt(dish, direction):\n",
    "    lines = np.rot90(dish,k=direction)\n",
    "    tilted = np.array([tilt_line(l) for l in lines])\n",
    "\n",
    "    return np.rot90(tilted,k=4-direction)\n",
    "\n",
    "assert np.array_equal(tilt(parse_input(sample),direction.north),parse_input(sample_tilted_north))\n",
    "assert np.array_equal(tilt(parse_input(sample),direction.east),parse_input(sample_tilted_east))\n",
    "assert np.array_equal(tilt(parse_input(sample),direction.west),parse_input(sample_tilted_west))\n",
    "\n",
    "def cycle(dish):\n",
    "    res = dish\n",
    "    for d in [direction.north, direction.west, direction.south, direction.east]:\n",
    "        res = tilt(res,d)\n",
    "    return res\n",
    "\n",
    "\n",
    "def solve1(puzzle):\n",
    "    dish = parse_input(puzzle)\n",
    "    tilted = tilt(dish,direction.north)\n",
    "    return load(tilted)\n",
    "\n",
    "\n",
    "def solve2(puzzle):\n",
    "    dish = parse_input(puzzle)\n",
    "    seen = list()\n",
    "    for _ in range(1000000000):\n",
    "        dish=cycle(dish)\n",
    "        pkl = pickle.dumps(dish)\n",
    "        if pkl in seen:\n",
    "            break\n",
    "        seen.append(pkl)\n",
    "\n",
    "    len_cycle = len(seen)-seen.index(pkl)\n",
    "    print(f\"found cycle of length {len_cycle}\")\n",
    "    remaining = (1000000000-len(seen)) % len_cycle\n",
    "    for _ in range(remaining-1):\n",
    "        dish=cycle(dish)\n",
    "        #print(load(dish))\n",
    "    return load(dish)\n",
    "\n",
    "\n",
    "\n",
    "\n",
    "puzzle = get_input('14')\n",
    "\n",
    "assert solve1(sample) == 136\n",
    "assert solve1(puzzle) == 107142\n",
    "assert solve2(sample) == 64\n"
   ]
  },
  {
   "cell_type": "code",
   "execution_count": 26,
   "id": "da1e96f7-7c13-4b0c-a52c-061e0d786718",
   "metadata": {},
   "outputs": [
    {
     "name": "stdout",
     "output_type": "stream",
     "text": [
      "(100, 100)\n"
     ]
    }
   ],
   "source": [
    "\n",
    "parsed = parse_input(puzzle)\n",
    "print(parsed.shape)"
   ]
  },
  {
   "cell_type": "code",
   "execution_count": 27,
   "id": "10edfdd3-7aee-42b0-a0bb-bda7617da9a5",
   "metadata": {},
   "outputs": [
    {
     "data": {
      "text/plain": [
       "107142"
      ]
     },
     "execution_count": 27,
     "metadata": {},
     "output_type": "execute_result"
    }
   ],
   "source": [
    "solve1(puzzle)"
   ]
  },
  {
   "cell_type": "code",
   "execution_count": 28,
   "id": "ce3218cb",
   "metadata": {},
   "outputs": [],
   "source": [
    "\n",
    "after_1_cycles = \"\"\".....#....\n",
    "....#...O#\n",
    "...OO##...\n",
    ".OO#......\n",
    ".....OOO#.\n",
    ".O#...O#.#\n",
    "....O#....\n",
    "......OOOO\n",
    "#...O###..\n",
    "#..OO#....\"\"\"\n",
    "\n",
    "after_2_cycles=\"\"\".....#....\n",
    "....#...O#\n",
    ".....##...\n",
    "..O#......\n",
    ".....OOO#.\n",
    ".O#...O#.#\n",
    "....O#...O\n",
    ".......OOO\n",
    "#..OO###..\n",
    "#.OOO#...O\"\"\"\n",
    "\n",
    "after_3_cycles=\"\"\".....#....\n",
    "....#...O#\n",
    ".....##...\n",
    "..O#......\n",
    ".....OOO#.\n",
    ".O#...O#.#\n",
    "....O#...O\n",
    ".......OOO\n",
    "#...O###.O\n",
    "#.OOO#...O\"\"\"\n",
    "\n",
    "assert np.array_equal(cycle(parse_input(sample)),parse_input(after_1_cycles))\n",
    "assert np.array_equal(cycle(cycle(parse_input(sample))),parse_input(after_2_cycles))\n",
    "assert np.array_equal(cycle(cycle(cycle(parse_input(sample)))),parse_input(after_3_cycles))"
   ]
  },
  {
   "cell_type": "code",
   "execution_count": 29,
   "id": "9894c437",
   "metadata": {},
   "outputs": [
    {
     "name": "stdout",
     "output_type": "stream",
     "text": [
      "found cycle of length 22\n"
     ]
    },
    {
     "data": {
      "text/plain": [
       "104815"
      ]
     },
     "execution_count": 29,
     "metadata": {},
     "output_type": "execute_result"
    }
   ],
   "source": [
    "solve2(puzzle)\n"
   ]
  },
  {
   "cell_type": "code",
   "execution_count": null,
   "id": "43372f69",
   "metadata": {},
   "outputs": [],
   "source": []
  }
 ],
 "metadata": {
  "kernelspec": {
   "display_name": "carl",
   "language": "python",
   "name": "python3"
  },
  "language_info": {
   "codemirror_mode": {
    "name": "ipython",
    "version": 3
   },
   "file_extension": ".py",
   "mimetype": "text/x-python",
   "name": "python",
   "nbconvert_exporter": "python",
   "pygments_lexer": "ipython3",
   "version": "3.10.4"
  }
 },
 "nbformat": 4,
 "nbformat_minor": 5
}
