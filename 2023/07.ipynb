{
 "cells": [
  {
   "cell_type": "code",
   "execution_count": 2,
   "id": "5826e931-678c-45cd-a557-187d356646f5",
   "metadata": {},
   "outputs": [],
   "source": [
    "sample = \"\"\"32T3K 765\n",
    "T55J5 684\n",
    "KK677 28\n",
    "KTJJT 220\n",
    "QQQJA 483\"\"\"\n",
    "\n",
    "\n",
    "def get_input(n):\n",
    "    with open('input_'+n+'.txt', 'r') as infile:\n",
    "        return infile.read().strip()\n",
    "\n",
    "\n",
    "from collections import Counter\n",
    "\n",
    "def parse_input(puzzle):\n",
    "    return [ l.strip().split() for l in puzzle.strip().split('\\n')]\n",
    "\n",
    "def cardRank(c):\n",
    "    return ['A', 'K', 'Q', 'J', 'T', '9', '8', '7', '6', '5', '4', '3','2'].index(c)\n",
    "\n",
    "\n",
    "def winning_hand(hand1,hand2):\n",
    "    \"\"\"\n",
    "    hand 1 wins return 1\n",
    "    equal return 0\n",
    "    hand 2 wins return -1\n",
    "    \"\"\"\n",
    "    c = Counter(hand1)\n",
    "    c2 = Counter(hand2)\n",
    "\n",
    "    nmatched1 = c.most_common(5)\n",
    "    nmatched2 = c2.most_common(5)\n",
    "\n",
    "\n",
    "\n",
    "    if nmatched1[0][1] != nmatched2[0][1]:\n",
    "        return 1 if nmatched1[0][1] > nmatched2[0][1] else -1\n",
    "    if nmatched1[1][1] != nmatched2[1][1]:\n",
    "        return 1 if nmatched1[1][1] > nmatched2[1][1] else -1\n",
    "    for card1,card2 in zip(hand1,hand2):\n",
    "        r1,r2 = cardRank(card1),cardRank(card2)\n",
    "        if r1 != r2:\n",
    "            return 1 if r1 < r2 else -1\n",
    "    return 0\n",
    "\n",
    "assert winning_hand(\"AAAA7\",\"AAA75\") == 1\n",
    "assert winning_hand(\"AAAAT\",\"AAAAT\") == 0\n",
    "assert winning_hand(\"AAJJJ\",\"AAAJT\") == 1\n",
    "assert winning_hand(\"AAAAJ\",\"AAAAT\") == 1\n",
    "assert winning_hand(\"AAAAT\",\"AAAAJ\") == -1\n",
    "\n",
    "\n",
    "\n",
    "\n",
    "from functools import cmp_to_key\n",
    "\n",
    "def solve1(puzzle):\n",
    "    hands = parse_input(puzzle)\n",
    "    hands.sort(key=cmp_to_key(lambda x,y: winning_hand(x[0],y[0])))\n",
    "    return sum( [ i*int( k[1]) for i,k in enumerate(hands,1)])\n",
    "\n"
   ]
  },
  {
   "cell_type": "code",
   "execution_count": 3,
   "id": "f00c1cd4-3ca1-40dc-9828-2cc12345e3e1",
   "metadata": {},
   "outputs": [
    {
     "data": {
      "text/plain": [
       "6440"
      ]
     },
     "execution_count": 3,
     "metadata": {},
     "output_type": "execute_result"
    }
   ],
   "source": [
    "solve1(sample)"
   ]
  },
  {
   "cell_type": "code",
   "execution_count": 4,
   "id": "7158f919-c9d0-4fdd-aebe-ed2530e25ae5",
   "metadata": {},
   "outputs": [],
   "source": [
    "puzzle = get_input('7')"
   ]
  },
  {
   "cell_type": "code",
   "execution_count": 5,
   "id": "e60427cb-4e77-41b6-81c1-d9671a10bc50",
   "metadata": {},
   "outputs": [
    {
     "data": {
      "text/plain": [
       "253910319"
      ]
     },
     "execution_count": 5,
     "metadata": {},
     "output_type": "execute_result"
    }
   ],
   "source": [
    "solve1(puzzle)"
   ]
  },
  {
   "cell_type": "code",
   "execution_count": 17,
   "id": "e8b7171f-d2fb-4f74-8d94-e89c1c563774",
   "metadata": {},
   "outputs": [
    {
     "name": "stdout",
     "output_type": "stream",
     "text": [
      "AAAAT AAAAT\n",
      "TTTTT TTTTT\n"
     ]
    }
   ],
   "source": [
    "sample2=\"\"\"32T3K 765\n",
    "T55J5 684\n",
    "KK677 28\n",
    "KTJJT 220\n",
    "QQQJA 483\"\"\"\n",
    "\n",
    "def cardRank2(c):\n",
    "    return ['A', 'K', 'Q', 'T', '9', '8', '7', '6', '5', '4', '3','2','J'].index(c)\n",
    "\n",
    "\n",
    "def winning_hand2(hand1,hand2):\n",
    "    \"\"\"\n",
    "    hand 1 wins return 1\n",
    "    equal return 0\n",
    "    hand 2 wins return -1\n",
    "    \"\"\"\n",
    "    c = Counter(hand1)\n",
    "    c2 = Counter(hand2)\n",
    "\n",
    "\n",
    "    for ci in [c,c2]:\n",
    "        if 'J' in ci.keys() and len(ci.keys())>1:\n",
    "            key_to_increment = next(filter(lambda k: k!='J', [i[0] for i in sorted(ci.most_common(5),key=lambda x: (1/x[1],cardRank2(x[0])))]))\n",
    "            ci[key_to_increment]+= ci['J']\n",
    "            del ci['J']\n",
    "            #print(hand1,hand2)\n",
    "\n",
    "    nmatched1 = c.most_common(5)\n",
    "    nmatched2 = c2.most_common(5)\n",
    "\n",
    "    n1 = tuple(sorted([i[1] for i in nmatched1],reverse=True))\n",
    "    n2 = tuple(sorted([i[1] for i in nmatched2],reverse=True))\n",
    "    if n1 != n2:\n",
    "        return 1 if n1 > n2 else -1\n",
    "\n",
    "    for card1,card2 in zip(hand1,hand2):\n",
    "        r1,r2 = cardRank2(card1),cardRank2(card2)\n",
    "        if r1 != r2:\n",
    "            return 1 if r1 < r2 else -1\n",
    "    print(hand1,hand2)\n",
    "    return 0\n",
    "\n",
    "assert winning_hand2(\"AAAA7\",\"AAA75\") == 1\n",
    "assert winning_hand2(\"AAAAT\",\"AAAAT\") == 0\n",
    "assert winning_hand2(\"AAJJJ\",\"AAAJT\") == 1\n",
    "assert winning_hand2(\"AAAAJ\",\"AAAAT\") == 1\n",
    "assert winning_hand2(\"AAAAT\",\"AAAAJ\") == -1\n",
    "assert winning_hand2(\"JT765\",\"JT772\") == -1\n",
    "\n",
    "assert winning_hand2(\"QQQQ2\",\"JKKK2\") == 1\n",
    "assert winning_hand2(\"QQQ32\",\"JKKK2\") == -1\n",
    "assert winning_hand2(\"QQQ32\",\"JTTT2\") == -1\n",
    "\n",
    "assert winning_hand2(\"KTJJT\",\"KK677\") == 1\n",
    "assert winning_hand2(\"JJJJJ\",\"33J3J\") == -1\n",
    "assert winning_hand2(\"TTTTT\",\"TTTTT\") == 0\n",
    "assert winning_hand2(\"TT324\",\"TT325\") == -1\n",
    "assert winning_hand2(\"33332\", \"2AAAA\") == 1\n",
    "assert winning_hand2(\"JJJJJ\", \"JJAAA\") == -1\n",
    "assert winning_hand2(\"JJJJJ\", \"44J4J\") == -1\n",
    "assert winning_hand2(\"JJJJJ\", \"JJ999\") == -1\n",
    "assert winning_hand2(\"JJJJJ\", \"JJJ8J\") == -1\n",
    "assert winning_hand2(\"JKKK2\", \"QQQQ2\") == -1\n",
    "\n",
    "\n",
    "assert winning_hand2(\"2T42T\", \"5J984\") == 1\n",
    "assert winning_hand2(\"5J984\", \"2T42T\") == -1\n",
    "assert winning_hand2(\"55994\", \"2342T\") == 1\n",
    "\n",
    "\n",
    "\n",
    "\n",
    "from functools import cmp_to_key\n",
    "\n",
    "def solve2(puzzle):\n",
    "    hands = parse_input(puzzle)\n",
    "    hands.sort(key=cmp_to_key(lambda x,y: winning_hand2(x[0],y[0])))\n",
    "    return sum( [ i*int( k[1]) for i,k in enumerate(hands,1)])"
   ]
  },
  {
   "cell_type": "code",
   "execution_count": 19,
   "id": "75328848-311a-4fd6-9075-010802a0b625",
   "metadata": {},
   "outputs": [
    {
     "name": "stdout",
     "output_type": "stream",
     "text": [
      "254083736\n"
     ]
    }
   ],
   "source": [
    "sample1 = \"\"\"32T3K 765\n",
    "T55J5 684\n",
    "KK677 28\n",
    "KTJJT 220\n",
    "QQQJA 483\"\"\"\n",
    "assert solve2(sample1) == 5905\n",
    "\n",
    "print(solve2(puzzle))\n"
   ]
  },
  {
   "cell_type": "code",
   "execution_count": 18,
   "id": "03af3124-9b29-4719-a9c3-ac3bbc42a304",
   "metadata": {},
   "outputs": [
    {
     "ename": "KeyboardInterrupt",
     "evalue": "",
     "output_type": "error",
     "traceback": [
      "\u001b[0;31m---------------------------------------------------------------------------\u001b[0m",
      "\u001b[0;31mKeyboardInterrupt\u001b[0m                         Traceback (most recent call last)",
      "Input \u001b[0;32mIn [18]\u001b[0m, in \u001b[0;36m<cell line: 33>\u001b[0;34m()\u001b[0m\n\u001b[1;32m     33\u001b[0m \u001b[38;5;28;01mfor\u001b[39;00m x,y \u001b[38;5;129;01min\u001b[39;00m itertools\u001b[38;5;241m.\u001b[39mcombinations(parse_input(puzzle),\u001b[38;5;241m2\u001b[39m):\n\u001b[1;32m     34\u001b[0m     hx,hy \u001b[38;5;241m=\u001b[39m x[\u001b[38;5;241m0\u001b[39m],y[\u001b[38;5;241m0\u001b[39m]\n\u001b[0;32m---> 35\u001b[0m     \u001b[38;5;28;01mif\u001b[39;00m winning_hand2(hx,hy) \u001b[38;5;241m!=\u001b[39m \u001b[43mwinning_hand_internet\u001b[49m\u001b[43m(\u001b[49m\u001b[43mhx\u001b[49m\u001b[43m,\u001b[49m\u001b[43mhy\u001b[49m\u001b[43m)\u001b[49m:\n\u001b[1;32m     36\u001b[0m         \u001b[38;5;28mprint\u001b[39m(hx,hy)\n",
      "Input \u001b[0;32mIn [18]\u001b[0m, in \u001b[0;36mwinning_hand_internet\u001b[0;34m(hand1, hand2)\u001b[0m\n\u001b[1;32m     10\u001b[0m face \u001b[38;5;241m=\u001b[39m \u001b[38;5;124m\"\u001b[39m\u001b[38;5;124mA0CDE\u001b[39m\u001b[38;5;124m\"\u001b[39m\n\u001b[1;32m     11\u001b[0m h1,h2 \u001b[38;5;241m=\u001b[39m \u001b[38;5;28mmap\u001b[39m(\u001b[38;5;28;01mlambda\u001b[39;00m x: x\u001b[38;5;241m.\u001b[39mtranslate(\u001b[38;5;28mstr\u001b[39m\u001b[38;5;241m.\u001b[39mmaketrans(\u001b[38;5;124m'\u001b[39m\u001b[38;5;124mTJQKA\u001b[39m\u001b[38;5;124m'\u001b[39m, face)),[hand1,hand2])\n\u001b[0;32m---> 12\u001b[0m b1,b2 \u001b[38;5;241m=\u001b[39m \u001b[38;5;28mmap\u001b[39m(\u001b[38;5;28;01mlambda\u001b[39;00m x: \u001b[38;5;28mmax\u001b[39m(hand_type(x\u001b[38;5;241m.\u001b[39mreplace(\u001b[38;5;124m'\u001b[39m\u001b[38;5;124m0\u001b[39m\u001b[38;5;124m'\u001b[39m, r)) \u001b[38;5;28;01mfor\u001b[39;00m r \u001b[38;5;129;01min\u001b[39;00m x),[h1,h2])\n\u001b[1;32m     13\u001b[0m \u001b[38;5;28;01mif\u001b[39;00m b1\u001b[38;5;241m==\u001b[39mb2:\n\u001b[1;32m     14\u001b[0m     \u001b[38;5;28;01mreturn\u001b[39;00m \u001b[38;5;241m1\u001b[39m \u001b[38;5;28;01mif\u001b[39;00m h1 \u001b[38;5;241m>\u001b[39m h2 \u001b[38;5;28;01melse\u001b[39;00m \u001b[38;5;241m-\u001b[39m\u001b[38;5;241m1\u001b[39m\n",
      "Input \u001b[0;32mIn [18]\u001b[0m, in \u001b[0;36mwinning_hand_internet.<locals>.<lambda>\u001b[0;34m(x)\u001b[0m\n\u001b[1;32m     10\u001b[0m face \u001b[38;5;241m=\u001b[39m \u001b[38;5;124m\"\u001b[39m\u001b[38;5;124mA0CDE\u001b[39m\u001b[38;5;124m\"\u001b[39m\n\u001b[1;32m     11\u001b[0m h1,h2 \u001b[38;5;241m=\u001b[39m \u001b[38;5;28mmap\u001b[39m(\u001b[38;5;28;01mlambda\u001b[39;00m x: x\u001b[38;5;241m.\u001b[39mtranslate(\u001b[38;5;28mstr\u001b[39m\u001b[38;5;241m.\u001b[39mmaketrans(\u001b[38;5;124m'\u001b[39m\u001b[38;5;124mTJQKA\u001b[39m\u001b[38;5;124m'\u001b[39m, face)),[hand1,hand2])\n\u001b[0;32m---> 12\u001b[0m b1,b2 \u001b[38;5;241m=\u001b[39m \u001b[38;5;28mmap\u001b[39m(\u001b[38;5;28;01mlambda\u001b[39;00m x: \u001b[38;5;28;43mmax\u001b[39;49m\u001b[43m(\u001b[49m\u001b[43mhand_type\u001b[49m\u001b[43m(\u001b[49m\u001b[43mx\u001b[49m\u001b[38;5;241;43m.\u001b[39;49m\u001b[43mreplace\u001b[49m\u001b[43m(\u001b[49m\u001b[38;5;124;43m'\u001b[39;49m\u001b[38;5;124;43m0\u001b[39;49m\u001b[38;5;124;43m'\u001b[39;49m\u001b[43m,\u001b[49m\u001b[43m \u001b[49m\u001b[43mr\u001b[49m\u001b[43m)\u001b[49m\u001b[43m)\u001b[49m\u001b[43m \u001b[49m\u001b[38;5;28;43;01mfor\u001b[39;49;00m\u001b[43m \u001b[49m\u001b[43mr\u001b[49m\u001b[43m \u001b[49m\u001b[38;5;129;43;01min\u001b[39;49;00m\u001b[43m \u001b[49m\u001b[43mx\u001b[49m\u001b[43m)\u001b[49m,[h1,h2])\n\u001b[1;32m     13\u001b[0m \u001b[38;5;28;01mif\u001b[39;00m b1\u001b[38;5;241m==\u001b[39mb2:\n\u001b[1;32m     14\u001b[0m     \u001b[38;5;28;01mreturn\u001b[39;00m \u001b[38;5;241m1\u001b[39m \u001b[38;5;28;01mif\u001b[39;00m h1 \u001b[38;5;241m>\u001b[39m h2 \u001b[38;5;28;01melse\u001b[39;00m \u001b[38;5;241m-\u001b[39m\u001b[38;5;241m1\u001b[39m\n",
      "Input \u001b[0;32mIn [18]\u001b[0m, in \u001b[0;36m<genexpr>\u001b[0;34m(.0)\u001b[0m\n\u001b[1;32m     10\u001b[0m face \u001b[38;5;241m=\u001b[39m \u001b[38;5;124m\"\u001b[39m\u001b[38;5;124mA0CDE\u001b[39m\u001b[38;5;124m\"\u001b[39m\n\u001b[1;32m     11\u001b[0m h1,h2 \u001b[38;5;241m=\u001b[39m \u001b[38;5;28mmap\u001b[39m(\u001b[38;5;28;01mlambda\u001b[39;00m x: x\u001b[38;5;241m.\u001b[39mtranslate(\u001b[38;5;28mstr\u001b[39m\u001b[38;5;241m.\u001b[39mmaketrans(\u001b[38;5;124m'\u001b[39m\u001b[38;5;124mTJQKA\u001b[39m\u001b[38;5;124m'\u001b[39m, face)),[hand1,hand2])\n\u001b[0;32m---> 12\u001b[0m b1,b2 \u001b[38;5;241m=\u001b[39m \u001b[38;5;28mmap\u001b[39m(\u001b[38;5;28;01mlambda\u001b[39;00m x: \u001b[38;5;28mmax\u001b[39m(hand_type(x\u001b[38;5;241m.\u001b[39mreplace(\u001b[38;5;124m'\u001b[39m\u001b[38;5;124m0\u001b[39m\u001b[38;5;124m'\u001b[39m, r)) \u001b[38;5;28;01mfor\u001b[39;00m r \u001b[38;5;129;01min\u001b[39;00m x),[h1,h2])\n\u001b[1;32m     13\u001b[0m \u001b[38;5;28;01mif\u001b[39;00m b1\u001b[38;5;241m==\u001b[39mb2:\n\u001b[1;32m     14\u001b[0m     \u001b[38;5;28;01mreturn\u001b[39;00m \u001b[38;5;241m1\u001b[39m \u001b[38;5;28;01mif\u001b[39;00m h1 \u001b[38;5;241m>\u001b[39m h2 \u001b[38;5;28;01melse\u001b[39;00m \u001b[38;5;241m-\u001b[39m\u001b[38;5;241m1\u001b[39m\n",
      "File \u001b[0;32m_pydevd_bundle/pydevd_cython.pyx:1457\u001b[0m, in \u001b[0;36m_pydevd_bundle.pydevd_cython.SafeCallWrapper.__call__\u001b[0;34m()\u001b[0m\n",
      "File \u001b[0;32m_pydevd_bundle/pydevd_cython.pyx:1792\u001b[0m, in \u001b[0;36m_pydevd_bundle.pydevd_cython.ThreadTracer.__call__\u001b[0;34m()\u001b[0m\n",
      "File \u001b[0;32m~/miniconda3/envs/carl/lib/python3.10/site-packages/debugpy/_vendored/pydevd/pydevd.py:1003\u001b[0m, in \u001b[0;36mPyDB.get_file_type\u001b[0;34m(self, frame, abs_real_path_and_basename, _cache_file_type)\u001b[0m\n\u001b[1;32m    986\u001b[0m \u001b[38;5;28;01mdef\u001b[39;00m \u001b[38;5;21mget_file_type\u001b[39m(\u001b[38;5;28mself\u001b[39m, frame, abs_real_path_and_basename\u001b[38;5;241m=\u001b[39m\u001b[38;5;28;01mNone\u001b[39;00m, _cache_file_type\u001b[38;5;241m=\u001b[39m_CACHE_FILE_TYPE):\n\u001b[1;32m    987\u001b[0m     \u001b[38;5;124;03m'''\u001b[39;00m\n\u001b[1;32m    988\u001b[0m \u001b[38;5;124;03m    :param abs_real_path_and_basename:\u001b[39;00m\n\u001b[1;32m    989\u001b[0m \u001b[38;5;124;03m        The result from get_abs_path_real_path_and_base_from_file or\u001b[39;00m\n\u001b[0;32m   (...)\u001b[0m\n\u001b[1;32m   1001\u001b[0m \u001b[38;5;124;03m            If it's a regular user file which should be traced.\u001b[39;00m\n\u001b[1;32m   1002\u001b[0m \u001b[38;5;124;03m    '''\u001b[39;00m\n\u001b[0;32m-> 1003\u001b[0m     \u001b[38;5;28;01mif\u001b[39;00m abs_real_path_and_basename \u001b[38;5;129;01mis\u001b[39;00m \u001b[38;5;28;01mNone\u001b[39;00m:\n\u001b[1;32m   1004\u001b[0m         \u001b[38;5;28;01mtry\u001b[39;00m:\n\u001b[1;32m   1005\u001b[0m             \u001b[38;5;66;03m# Make fast path faster!\u001b[39;00m\n\u001b[1;32m   1006\u001b[0m             abs_real_path_and_basename \u001b[38;5;241m=\u001b[39m NORM_PATHS_AND_BASE_CONTAINER[frame\u001b[38;5;241m.\u001b[39mf_code\u001b[38;5;241m.\u001b[39mco_filename]\n",
      "\u001b[0;31mKeyboardInterrupt\u001b[0m: "
     ]
    }
   ],
   "source": [
    "# Solution from\n",
    "# https://topaz.github.io/paste/#XQAAAQCWAQAAAAAAAAAyGUj/Tves1Vlhva5Xc7aldPouUCd9r2U+quPzunJSC/FRtFOCl3jvsOS1U7OFWVuz2kRe9nWgS76csgEajWXW1nwiSct2ymWGm5lgiKtVFaxmD0gRNSO77UYOqBVeK1466hd4sYTX/xesjcCwrPzAbjAjVGZ+DQlEQr3bFsgmY8IxNDA7i3j/sRSMrZV3BX6CVLECPykALpp1Vt7LQNn4YYcJy+aYETDOb1l2KF+pa4OiYKzHUFCo4EJSZsDDPMt/8f0V8S7b8RuKqT5ctRunn32IT5+sCabvjDbggAQTHgIQqvLbpnUS5dPGcO4MALix4/YuS2VSDa+Sj5yuosbcdr7dzNX3MO8FOyIXQf/wbFxG\n",
    "import itertools\n",
    "\n",
    "def hand_type(hand):\n",
    "    return sorted(map(hand.count, hand), reverse=True)\n",
    "\n",
    "\n",
    "def winning_hand_internet(hand1, hand2):\n",
    "    face = \"A0CDE\"\n",
    "    h1,h2 = map(lambda x: x.translate(str.maketrans('TJQKA', face)),[hand1,hand2])\n",
    "    b1,b2 = map(lambda x: max(hand_type(x.replace('0', r)) for r in x),[h1,h2])\n",
    "    if b1==b2:\n",
    "        return 1 if h1 > h2 else -1\n",
    "    return 1 if b1 > b2 else -1\n",
    "\n",
    "assert winning_hand_internet(\"JJJJJ\", \"JJAAA\") == -1\n",
    "assert winning_hand_internet(\"JJJJJ\", \"44J4J\") == -1\n",
    "assert winning_hand_internet(\"JJJJJ\", \"JJ999\") == -1\n",
    "assert winning_hand_internet(\"JJJJJ\", \"JJJ8J\") == -1\n",
    "assert winning_hand_internet(\"JKKK2\", \"QQQQ2\") == -1\n",
    "\n",
    "assert winning_hand_internet(\"AAAAJ\",\"AAAAT\") == 1\n",
    "assert winning_hand_internet(\"AAAAT\",\"AAAAJ\") == -1\n",
    "assert winning_hand_internet(\"JT765\",\"JT772\") == -1\n",
    "\n",
    "assert winning_hand_internet(\"QQQQ2\",\"JKKK2\") == 1\n",
    "assert winning_hand_internet(\"QQQ32\",\"JKKK2\") == -1\n",
    "assert winning_hand_internet(\"QQQ32\",\"JTTT2\") == -1\n",
    "\n",
    "assert winning_hand2(\"KTJJT\",\"KK677\") == 1\n",
    "\n",
    "for x,y in itertools.combinations(parse_input(puzzle),2):\n",
    "    hx,hy = x[0],y[0]\n",
    "    if winning_hand2(hx,hy) != winning_hand_internet(hx,hy):\n",
    "        print(hx,hy)\n",
    "\n"
   ]
  },
  {
   "cell_type": "code",
   "execution_count": 12,
   "id": "cb70dd54-2897-4e49-9a1b-e1a62ba7f060",
   "metadata": {},
   "outputs": [
    {
     "name": "stdout",
     "output_type": "stream",
     "text": [
      "253910319\n",
      "254083736\n"
     ]
    }
   ],
   "source": [
    "\n",
    "\n",
    "def eval(line):\n",
    "    hand, bid = line.split()\n",
    "    hand = hand.translate(str.maketrans('TJQKA', face))\n",
    "    best = max(type(hand.replace('0', r)) for r in hand)\n",
    "    return best, hand, int(bid)\n",
    "\n",
    "def type(hand):\n",
    "    return sorted(map(hand.count, hand), reverse=True)\n",
    "\n",
    "for face in 'ABCDE', 'A0CDE':\n",
    "    print(sum(rank * bid for rank, (*_, bid) in\n",
    "        enumerate(sorted(map(eval, open('input_7.txt'))), start=1)))"
   ]
  },
  {
   "cell_type": "code",
   "execution_count": null,
   "id": "ee456dc5-08bb-4379-88cf-1a0a92f2d8a2",
   "metadata": {},
   "outputs": [],
   "source": []
  }
 ],
 "metadata": {
  "kernelspec": {
   "display_name": "Python 3 (ipykernel)",
   "language": "python",
   "name": "python3"
  },
  "language_info": {
   "codemirror_mode": {
    "name": "ipython",
    "version": 3
   },
   "file_extension": ".py",
   "mimetype": "text/x-python",
   "name": "python",
   "nbconvert_exporter": "python",
   "pygments_lexer": "ipython3",
   "version": "3.10.0"
  }
 },
 "nbformat": 4,
 "nbformat_minor": 5
}
