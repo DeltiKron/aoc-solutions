{
 "cells": [
  {
   "cell_type": "code",
   "execution_count": 1,
   "id": "3a36451f-1656-4595-8c51-032974964f0d",
   "metadata": {},
   "outputs": [
    {
     "name": "stdout",
     "output_type": "stream",
     "text": [
      "('###..###.#', [3, 3, 1])\n"
     ]
    }
   ],
   "source": [
    "import re\n",
    "from functools import reduce\n",
    "import itertools\n",
    "from collections import Counter\n",
    "import numpy as np\n",
    "\n",
    "\n",
    "def get_input(n):\n",
    "    with open('input_'+n+'.txt', 'r') as infile:\n",
    "        return infile.read().strip()\n",
    "\n",
    "\n",
    "def parse_line(line):\n",
    "    springs, numbers = line.strip().split()\n",
    "    numbers = list(map(int, numbers.split(',')))\n",
    "    return springs, numbers\n",
    "\n",
    "def parse_input(puzzle,line_parser=parse_line):\n",
    "    lines = puzzle.strip().split('\\n')\n",
    "    for line in lines:\n",
    "        yield(line_parser(line))\n",
    "\n",
    "def arrangement_candidates(springs, missing_springs):\n",
    "    unknowns = list(re.finditer(r'\\?',springs))\n",
    "    if len(unknowns) < missing_springs:\n",
    "        raise Exception(\"Too few unknowns impossible to solve\")\n",
    "    indices = [u.start() for u in unknowns]\n",
    "    combinations = list(itertools.combinations(indices, missing_springs))\n",
    "    for c in combinations:\n",
    "        s = [s if i not in c else '#' for i, s in enumerate(springs)]\n",
    "        yield ''.join(s)\n",
    "\n",
    "assert list(arrangement_candidates('???',1)) == ['#??', '?#?', '??#']\n",
    "assert list(arrangement_candidates('???',2)) == ['##?','#?#', '?##'], f\"got {list(arrangement_candidates('???',2))} instead\"\n",
    "assert list(arrangement_candidates('???',3)) == ['###']\n",
    "\n",
    "def is_correct(springs,numbers):\n",
    "    matches = re.findall('(#+)', springs)\n",
    "    if not matches or len(matches) != len(numbers):\n",
    "        return False\n",
    "    for spring, length in zip(matches, numbers):\n",
    "        if len(spring) != length:\n",
    "            return False\n",
    "    return True\n",
    "\n",
    "assert is_correct(*parse_line('###..###.# 3,3,1'))\n",
    "assert not is_correct(*parse_line('#.#..###.# 3,3,1'))\n",
    "print(parse_line('###..###.# 3,3,1'))\n",
    "\n",
    "\n",
    "sample1 = \"\"\"???.### 1,1,3\n",
    ".??..??...?##. 1,1,3\n",
    "?#?#?#?#?#?#?#? 1,3,1,6\n",
    "????.#...#... 4,1,1\n",
    "????.######..#####. 1,6,5\n",
    "?###???????? 3,2,1\"\"\"\n",
    "\n",
    "n_arrangements = [\n",
    "    [\"???.### 1,1,3\", 1],\n",
    "    [\".??..??...?##. 1,1,3\", 4],\n",
    "    [\"?#?#?#?#?#?#?#? 1,3,1,6\", 1],\n",
    "    [\"????.#...#... 4,1,1\", 1],\n",
    "    [\"????.######..#####. 1,6,5\", 4],\n",
    "    [\"?###???????? 3,2,1\", 10]\n",
    "]\n",
    "\n",
    "clean_sample = \"\"\"#.#.### 1,1,3\n",
    ".#...#....###. 1,1,3\n",
    ".#.###.#.###### 1,3,1,6\n",
    "####.#...#... 4,1,1\n",
    "#....######..#####. 1,6,5\n",
    ".###.##....# 3,2,1\"\"\"\n",
    "\n",
    "valid_lines = parse_input(clean_sample)\n",
    "assert all([is_correct(*x) for x in valid_lines])\n",
    "\n",
    "def n_solutions(springs,numbers):\n",
    "    try:\n",
    "        missing = sum(numbers)-Counter(springs).get('#',0)\n",
    "\n",
    "    except:\n",
    "        print(springs,numbers)\n",
    "        return 1\n",
    "    return sum( is_correct(c,numbers) for c in arrangement_candidates(springs,missing) )\n",
    "\n",
    "for line, n in n_arrangements:\n",
    "    springs, numbers = parse_line(line)\n",
    "    assert n_solutions(springs,numbers) == n\n"
   ]
  },
  {
   "cell_type": "code",
   "execution_count": 2,
   "id": "da1e96f7-7c13-4b0c-a52c-061e0d786718",
   "metadata": {},
   "outputs": [],
   "source": [
    "puzzle = get_input('12')"
   ]
  },
  {
   "cell_type": "code",
   "execution_count": 3,
   "id": "10edfdd3-7aee-42b0-a0bb-bda7617da9a5",
   "metadata": {},
   "outputs": [
    {
     "data": {
      "text/plain": [
       "21"
      ]
     },
     "execution_count": 3,
     "metadata": {},
     "output_type": "execute_result"
    }
   ],
   "source": [
    "def solve(puzzle):\n",
    "    return sum(n_solutions(s,n) for s,n in parse_input(puzzle))\n",
    "solve(sample1)"
   ]
  },
  {
   "cell_type": "code",
   "execution_count": 4,
   "id": "47cc2a34-c6dc-455d-98a0-c963c86304a0",
   "metadata": {},
   "outputs": [
    {
     "data": {
      "text/plain": [
       "7407"
      ]
     },
     "execution_count": 4,
     "metadata": {},
     "output_type": "execute_result"
    }
   ],
   "source": [
    "solve(puzzle)"
   ]
  },
  {
   "cell_type": "code",
   "execution_count": 5,
   "id": "ac9f83e5-bc75-4251-9147-337c74625822",
   "metadata": {},
   "outputs": [],
   "source": [
    "def parse_line2(line):\n",
    "    springs, numbers = line.strip().split()\n",
    "    numbers = list(map(int, numbers.split(',')))\n",
    "    return '?'.join([springs]*5), numbers*5"
   ]
  },
  {
   "cell_type": "code",
   "execution_count": 18,
   "id": "da8bb94c-f640-4d7b-a02a-dfc669b2ae28",
   "metadata": {},
   "outputs": [
    {
     "name": "stdout",
     "output_type": "stream",
     "text": [
      "validating against ???.### 1,1,3 solution: 1\n",
      "validating against .??..??...?##. 1,1,3 solution: 4\n",
      "validating against ?#?#?#?#?#?#?#? 1,3,1,6 solution: 1\n",
      "validating against ????.#...#... 4,1,1 solution: 1\n",
      "validating against ????.######..#####. 1,6,5 solution: 4\n",
      "validating against ?###???????? 3,2,1 solution: 10\n"
     ]
    }
   ],
   "source": [
    "cache = {}\n",
    "\n",
    "\n",
    "def dp_n_solutions(springs, numbers, si, ni, current):\n",
    "    key = (si, ni, current)\n",
    "    if key == (0, 0, 0):\n",
    "        pass\n",
    "        cache.clear()\n",
    "    if key in cache:\n",
    "        pass\n",
    "        return cache[key]\n",
    "    if si == len(springs):\n",
    "        if ni == len(numbers) and current == 0:\n",
    "            return 1\n",
    "        if ni == len(numbers)-1 and current == numbers[ni]:\n",
    "            return 1\n",
    "        return 0\n",
    "    # Iteration:\n",
    "    ans = 0\n",
    "    for c in ['#', '.']:\n",
    "        if springs[si] in ['?', c]:\n",
    "            if c == '#':\n",
    "                ans += dp_n_solutions(springs, numbers, si+1, ni, current+1)\n",
    "            if c == '.':\n",
    "                if current == 0:\n",
    "                    ans += dp_n_solutions(springs, numbers, si+1, ni, current)\n",
    "                if current > 0 and ni < len(numbers) and current == numbers[ni]:\n",
    "                    ans += dp_n_solutions(springs, numbers, si+1, ni+1, 0)\n",
    "    cache[key] = ans\n",
    "    return ans\n",
    "\n",
    "\n",
    "assert dp_n_solutions('###', [1, 2], 0, 0, 0) == 0\n",
    "assert dp_n_solutions('###', [3], 0, 0, 0) == 1\n",
    "dp_n_solutions(springs, numbers, 0, 0, 0)\n",
    "dp_n_solutions(springs, numbers, 0, 0, 0)\n",
    "\n",
    "for line, n in n_arrangements:\n",
    "    springs, numbers = parse_line(line)\n",
    "    print(f'validating against {line} solution: {n}')\n",
    "    solution = dp_n_solutions(springs, numbers, 0, 0, 0)\n",
    "    assert solution == n, f\"expected {n} got {solution}\"\n",
    "\n",
    "\n",
    "def solve1_dp(puzzle):\n",
    "    return sum(dp_n_solutions(s, n, 0, 0, 0) for s, n in parse_input(puzzle))\n",
    "\n",
    "def solve2_dp(puzzle):\n",
    "    return sum(dp_n_solutions(s, n, 0, 0, 0) for s, n in parse_input(puzzle, line_parser=parse_line2))"
   ]
  },
  {
   "cell_type": "code",
   "execution_count": 11,
   "id": "5a9d922b-3c34-4d36-9b78-1b055171baf8",
   "metadata": {},
   "outputs": [
    {
     "data": {
      "text/plain": [
       "21"
      ]
     },
     "execution_count": 11,
     "metadata": {},
     "output_type": "execute_result"
    }
   ],
   "source": [
    "solve1_dp(sample1)"
   ]
  },
  {
   "cell_type": "code",
   "execution_count": 14,
   "id": "4043db48-c7eb-48d2-916c-8dad20518c5c",
   "metadata": {},
   "outputs": [
    {
     "data": {
      "text/plain": [
       "7407"
      ]
     },
     "execution_count": 14,
     "metadata": {},
     "output_type": "execute_result"
    }
   ],
   "source": [
    "solve1_dp(puzzle)"
   ]
  },
  {
   "cell_type": "code",
   "execution_count": 19,
   "id": "a31a755a-70bb-4289-b061-ed096072bb2c",
   "metadata": {},
   "outputs": [
    {
     "data": {
      "text/plain": [
       "30568243604962"
      ]
     },
     "execution_count": 19,
     "metadata": {},
     "output_type": "execute_result"
    }
   ],
   "source": [
    "solve2_dp(puzzle)"
   ]
  },
  {
   "cell_type": "code",
   "execution_count": null,
   "id": "67b8a783-973e-44e0-966c-1ea022157864",
   "metadata": {},
   "outputs": [],
   "source": []
  }
 ],
 "metadata": {
  "kernelspec": {
   "display_name": "Python 3 (ipykernel)",
   "language": "python",
   "name": "python3"
  },
  "language_info": {
   "codemirror_mode": {
    "name": "ipython",
    "version": 3
   },
   "file_extension": ".py",
   "mimetype": "text/x-python",
   "name": "python",
   "nbconvert_exporter": "python",
   "pygments_lexer": "ipython3",
   "version": "3.10.0"
  }
 },
 "nbformat": 4,
 "nbformat_minor": 5
}
